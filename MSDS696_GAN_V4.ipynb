{
  "cells": [
    {
      "cell_type": "markdown",
      "metadata": {
        "id": "view-in-github",
        "colab_type": "text"
      },
      "source": [
        "<a href=\"https://colab.research.google.com/github/AdamPeetz/PlaneGAN/blob/main/MSDS696_GAN_V4.ipynb\" target=\"_parent\"><img src=\"https://colab.research.google.com/assets/colab-badge.svg\" alt=\"Open In Colab\"/></a>"
      ]
    },
    {
      "cell_type": "code",
      "execution_count": 1,
      "metadata": {
        "colab": {
          "base_uri": "https://localhost:8080/"
        },
        "id": "lip5etIQEPQN",
        "outputId": "548f7315-f39b-4f7c-9e56-02711424d526"
      },
      "outputs": [
        {
          "output_type": "stream",
          "name": "stdout",
          "text": [
            "Drive already mounted at /content/gdrive; to attempt to forcibly remount, call drive.mount(\"/content/gdrive\", force_remount=True).\n"
          ]
        }
      ],
      "source": [
        "# example of a dcgan on cifar10\n",
        "from numpy import zeros\n",
        "from numpy import ones\n",
        "from numpy.random import randn\n",
        "from numpy.random import randint\n",
        "from keras.datasets.cifar10 import load_data\n",
        "from keras.optimizers import Adam\n",
        "from keras.models import Sequential\n",
        "from keras.layers import Dense\n",
        "from keras.layers import Reshape\n",
        "from keras.layers import Flatten\n",
        "from keras.layers import Conv2D\n",
        "from keras.layers import Conv2DTranspose\n",
        "from keras.layers import LeakyReLU\n",
        "from keras.layers import Dropout\n",
        "from matplotlib import pyplot\n",
        "import tensorflow as tf\n",
        "import cv2\n",
        "import numpy as np\n",
        "import pathlib\n",
        "\n",
        "import os, shutil \n",
        "from google.colab import drive \n",
        "drive.mount('/content/gdrive')"
      ]
    },
    {
      "cell_type": "code",
      "execution_count": 2,
      "metadata": {
        "id": "JrTxmPpaEnsx"
      },
      "outputs": [],
      "source": [
        "# define the standalone discriminator model\n",
        "def define_discriminator(in_shape=(128,128,3)):\n",
        "\tmodel = Sequential()\n",
        "\t# downsample to 64 x 64\n",
        "\tmodel.add(Conv2D(64, (3,3), padding='same', input_shape=in_shape))\n",
        "\tmodel.add(LeakyReLU(alpha=0.2))\n",
        "\t# downsample to 32x32\n",
        "\tmodel.add(Conv2D(98, (3,3), padding='same', input_shape=in_shape))\n",
        "\tmodel.add(LeakyReLU(alpha=0.2))\n",
        "\t# downsample to 16x16\n",
        "\tmodel.add(Conv2D(128, (3,3), strides=(2,2), padding='same'))\n",
        "\tmodel.add(LeakyReLU(alpha=0.2))\n",
        "\t# downsample to 8x8\n",
        "\tmodel.add(Conv2D(192, (3,3), strides=(2,2), padding='same'))\n",
        "\tmodel.add(LeakyReLU(alpha=0.2))\n",
        "\t# downsample to 4x4\n",
        "\tmodel.add(Conv2D(256, (3,3), strides=(2,2), padding='same'))\n",
        "\tmodel.add(LeakyReLU(alpha=0.2))\n",
        "\t# classifier\n",
        "\tmodel.add(Flatten())\n",
        "\tmodel.add(Dropout(0.4))\n",
        "\tmodel.add(Dense(1, activation='sigmoid'))\n",
        "\t# compile model\n",
        "\topt = Adam(lr=0.0002, beta_1=0.5)\n",
        "\tmodel.compile(loss='binary_crossentropy', optimizer=opt, metrics=['accuracy'])\n",
        "\treturn model\n"
      ]
    },
    {
      "cell_type": "code",
      "execution_count": 3,
      "metadata": {
        "id": "GDtG-SO4En3V"
      },
      "outputs": [],
      "source": [
        "# define the standalone generator model\n",
        "def define_generator(latent_dim):\n",
        "\tmodel = Sequential()\n",
        "\t# foundation for 4x4 image\n",
        "\tn_nodes = 256 * 4 * 4\n",
        "\tmodel.add(Dense(n_nodes, input_dim=latent_dim))\n",
        "\tmodel.add(LeakyReLU(alpha=0.2))\n",
        "\tmodel.add(Reshape((4, 4, 256)))\n",
        "\t# upsample to 8x8\n",
        "\tmodel.add(Conv2DTranspose(64, (4,4), strides=(2,2), padding='same'))\n",
        "\tmodel.add(LeakyReLU(alpha=0.2))\n",
        "\t# upsample to 16x16\n",
        "\tmodel.add(Conv2DTranspose(96, (3,3), strides=(2,2), padding='same'))\n",
        "\tmodel.add(LeakyReLU(alpha=0.2))\n",
        "\t# upsample to 32x32\n",
        "\tmodel.add(Conv2DTranspose(128, (3,3), strides=(2,2), padding='same'))\n",
        "\tmodel.add(LeakyReLU(alpha=0.2))\n",
        " \t# upsample to 64x64\n",
        "\tmodel.add(Conv2DTranspose(192, (3,3), strides=(2,2), padding='same'))\n",
        "\tmodel.add(LeakyReLU(alpha=0.2))\n",
        " \t# upsample to 128x128\n",
        "\tmodel.add(Conv2DTranspose(256, (3,3), strides=(2,2), padding='same'))\n",
        "\tmodel.add(LeakyReLU(alpha=0.2))\n",
        "\t# output layer\n",
        "\tmodel.add(Conv2D(3, (3,3), activation='tanh', padding='same'))\n",
        "\treturn model"
      ]
    },
    {
      "cell_type": "code",
      "execution_count": 4,
      "metadata": {
        "id": "NDgVFRylEn-t"
      },
      "outputs": [],
      "source": [
        "# define the combined generator and discriminator model, for updating the generator\n",
        "def define_gan(g_model, d_model):\n",
        "\t# make weights in the discriminator not trainable\n",
        "\td_model.trainable = False\n",
        "\t# connect them\n",
        "\tmodel = Sequential()\n",
        "\t# add generator\n",
        "\tmodel.add(g_model)\n",
        "\t# add the discriminator\n",
        "\tmodel.add(d_model)\n",
        "\t# compile model\n",
        "\topt = Adam(lr=0.0002, beta_1=0.5)\n",
        "\tmodel.compile(loss='binary_crossentropy', optimizer=opt)\n",
        "\treturn model"
      ]
    },
    {
      "cell_type": "code",
      "execution_count": 5,
      "metadata": {
        "id": "R2tPw_SdEx7C"
      },
      "outputs": [],
      "source": [
        "# load and prepare cifar10 training images\n",
        "def load_real_samples():\n",
        "\t# load cifar10 dataset\n",
        "\t(trainX, _), (_, _) = load_data()\n",
        "\t# convert from unsigned ints to floats\n",
        "\tX = trainX.astype('float32')\n",
        "\t# scale from [0,255] to [-1,1]\n",
        "\tX = (X - 127.5) / 127.5\n",
        "\treturn X\n",
        "\n",
        "#load and prepare custom image dataset\n",
        "def create_real_img_dataset(image_path, resize_dim):\n",
        "\t\tdataset = []\n",
        "\t\tfor file in tqdm(os.listdir(image_path)):\n",
        "\t\t\t\timage = cv2.imread(os.path.join(image_path,file))\n",
        "\t\t\t\tX = image.astype('float32')\n",
        "\t\t\t\tX = X[:, :, [2, 1, 0]]\n",
        "\t\t\t\tX = (X - 127.5) / 127.5\n",
        "\t\t\t\tX = tf.image.resize(X, [resize_dim, resize_dim])\n",
        "\t\t\t\tdataset.append(X)\n",
        "\t\tdataset = np.array(dataset)\n",
        "\t\treturn dataset\n",
        "\n",
        "#load a custom image dataset with 1 level of directory\n",
        "# tensorflow documentation\n",
        "def load_custom_image_set(dataroot,resizedim,directorylevels):\n",
        "    #image parse function\n",
        "    def parse_image(filename):\n",
        "        parts = tf.strings.split(filename, os.sep)\n",
        "        label = parts[-2]\n",
        "        image = tf.io.read_file(filename)\n",
        "        image = tf.io.decode_jpeg(image)\n",
        "        image = tf.image.convert_image_dtype(image, tf.float32)\n",
        "        image = tf.image.resize(image, [resizedim,resizedim])\n",
        "        image = (image * 2) -1\n",
        "        return image, label\n",
        "    \n",
        "    data_root = pathlib.Path(dataroot)\n",
        "    if directorylevels == 1:\n",
        "      list_ds = tf.data.Dataset.list_files(str(data_root/'*/*'))\n",
        "    if directorylevels == 2:\n",
        "      list_ds = tf.data.Dataset.list_files(str(data_root/'*/*/*'))\n",
        "    images_ds = list_ds.map(parse_image)\n",
        "    #https://stackoverflow.com/questions/70535683/extract-data-from-tensorflow-dataset-e-g-to-numpy\n",
        "    images = np.asarray(list(images_ds.map(lambda x, y: x)))\n",
        "    return images\n",
        "\n",
        "# select real samples\n",
        "def generate_real_samples(dataset, n_samples):\n",
        "\t# choose random instances\n",
        "\tix = randint(0, dataset.shape[0], n_samples)\n",
        "\t# retrieve selected images\n",
        "\tX = dataset[ix]\n",
        "\t# generate 'real' class labels (1)\n",
        "\ty = ones((n_samples, 1))\n",
        "\treturn X, y\n",
        "\n",
        "# generate points in latent space as input for the generator\n",
        "def generate_latent_points(latent_dim, n_samples):\n",
        "\t# generate points in the latent space\n",
        "\tx_input = randn(latent_dim * n_samples)\n",
        "\t# reshape into a batch of inputs for the network\n",
        "\tx_input = x_input.reshape(n_samples, latent_dim)\n",
        "\treturn x_input\n",
        "\n",
        "# modified with suggestion from Das Shuvo (2020)\n",
        "# use the generator to generate n fake examples, with class labels\n",
        "def generate_fake_samples(g_model, latent_dim, n_samples):\n",
        "\t# generate points in latent space\n",
        "\tx_input = generate_latent_points(latent_dim, n_samples)\n",
        "\t# predict outputs\n",
        "\tinput_tensor = tf.convert_to_tensor(x_input)\n",
        "\tX = g_model(input_tensor)\n",
        "\tX = X.numpy()\n",
        "\t# create 'fake' class labels (0)\n",
        "\ty = zeros((n_samples, 1))\n",
        "\treturn X, y"
      ]
    },
    {
      "cell_type": "code",
      "execution_count": 6,
      "metadata": {
        "id": "I2MWrLh8EyBL"
      },
      "outputs": [],
      "source": [
        "# create and save a plot of generated images\n",
        "def save_plot(examples, epoch, n=7):\n",
        "\t# scale from [-1,1] to [0,1]\n",
        "\texamples = (examples + 1) / 2.0\n",
        "#\texample = (examples + 1) * 255\n",
        "\t# plot images\n",
        "\tfor i in range(n * n):\n",
        "\t\t# define subplot\n",
        "\t\tpyplot.subplot(n, n, 1 + i)\n",
        "\t\t# turn off axis\n",
        "\t\tpyplot.axis('off')\n",
        "\t\t# plot raw pixel data\n",
        "\t\tpyplot.imshow(examples[i])\n",
        "\t# save plot to file\n",
        "\tfilename = '/content/gdrive/My Drive/planegan/sample_output/generated_plot_e%03d.png' % (epoch+1)\n",
        "\tpyplot.savefig(filename)\n",
        "\tpyplot.close()\n",
        " \n",
        "# create a line plot of loss for the gan and save to file\n",
        "def plot_history(d1_hist, d2_hist, g_hist, a1_hist, a2_hist):\n",
        "\t# plot loss\n",
        "\tpyplot.subplot(2, 1, 1)\n",
        "\tpyplot.plot(d1_hist, label='d-real')\n",
        "\tpyplot.plot(d2_hist, label='d-fake')\n",
        "\tpyplot.plot(g_hist, label='gen')\n",
        "\tpyplot.legend()\n",
        "\t# plot discriminator accuracy\n",
        "\tpyplot.subplot(2, 1, 2)\n",
        "\tpyplot.plot(a1_hist, label='acc-real')\n",
        "\tpyplot.plot(a2_hist, label='acc-fake')\n",
        "\tpyplot.legend()\n",
        "\t# save plot to file\n",
        "\tpyplot.savefig('/content/gdrive/My Drive/planegan/saved_models/plot_line_plot_loss.png')\n",
        "\tpyplot.close()\n"
      ]
    },
    {
      "cell_type": "code",
      "execution_count": 7,
      "metadata": {
        "id": "RrnRfx2tFKoi"
      },
      "outputs": [],
      "source": [
        "# evaluate the discriminator, plot generated images, save generator model\n",
        "def summarize_performance(epoch, g_model, d_model, dataset, latent_dim, n_samples=150):\n",
        "\t# prepare real samples\n",
        "\tX_real, y_real = generate_real_samples(dataset, n_samples)\n",
        "\t# evaluate discriminator on real examples\n",
        "\t_, acc_real = d_model.evaluate(X_real, y_real, verbose=0)\n",
        "\t# prepare fake examples\n",
        "\tx_fake, y_fake = generate_fake_samples(g_model, latent_dim, n_samples)\n",
        "\t# evaluate discriminator on fake examples\n",
        "\t_, acc_fake = d_model.evaluate(x_fake, y_fake, verbose=0)\n",
        "\t# summarize discriminator performance\n",
        "\tprint('>Accuracy real: %.0f%%, fake: %.0f%%' % (acc_real*100, acc_fake*100))\n",
        "\t# save plot\n",
        "\tsave_plot(x_fake, epoch)\n",
        "\t# save the generator model tile file\n",
        "\tfilename = '/content/gdrive/My Drive/planegan/saved_models/generator_model_%03d.h5' % (epoch+1)\n",
        "\tg_model.save(filename)\n",
        "\n",
        "# train the generator and discriminator\n",
        "def train(g_model, d_model, gan_model, dataset, latent_dim, n_epochs=300, n_batch=128):\n",
        "\tbat_per_epo = int(dataset.shape[0] / n_batch)\n",
        "\t# define half batches for training\n",
        "\thalf_batch = int(n_batch / 2)\n",
        "  # prepare lists for storing stats each iteration\n",
        "\td1_hist, d2_hist, g_hist, a1_hist, a2_hist = list(), list(), list(), list(), list()\n",
        "\t# manually enumerate epochs\n",
        "\tfor i in range(n_epochs):\n",
        "\t\t# enumerate batches over the training set\n",
        "\t\tfor j in range(bat_per_epo):\n",
        "\t\t\t# get randomly selected 'real' samples\n",
        "\t\t\tX_real, y_real = generate_real_samples(dataset, half_batch)\n",
        "\t\t\t# update discriminator model weights\n",
        "\t\t\td_loss1, d_acc1 = d_model.train_on_batch(X_real, y_real)\n",
        "\t\t\t# generate 'fake' examples\n",
        "\t\t\tX_fake, y_fake = generate_fake_samples(g_model, latent_dim, half_batch)\n",
        "\t\t\t# update discriminator model weights\n",
        "\t\t\td_loss2, d_acc2 = d_model.train_on_batch(X_fake, y_fake)\n",
        "\t\t\t# prepare points in latent space as input for the generator\n",
        "\t\t\tX_gan = generate_latent_points(latent_dim, n_batch)\n",
        "\t\t\t# create inverted labels for the fake samples\n",
        "\t\t\ty_gan = ones((n_batch, 1))\n",
        "\t\t\t# update the generator via the discriminator's error\n",
        "\t\t\tg_loss = gan_model.train_on_batch(X_gan, y_gan)\n",
        "\t\t# summarize loss\n",
        "\t\t\tif (j+1) % 5 == 0:\n",
        "\t\t\t\tprint('>%d, %d/%d, d1=%.3f, d2=%.3f g=%.3f' % (i+1, j+1, bat_per_epo, d_loss1, d_loss2, g_loss))\n",
        "\t\t# evaluate the model performance, sometimes\n",
        "\t\tif (i+1) % 10 == 0:\n",
        "\t\t\tsummarize_performance(i, g_model, d_model, dataset, latent_dim)\n",
        "\t\t# record training metrics\n",
        "\t\tif (i+1) % 2 == 0:\n",
        "\t\t\td1_hist.append(d_loss1)\n",
        "\t\t\td2_hist.append(d_loss2)\n",
        "\t\t\tg_hist.append(g_loss)\n",
        "\t\t\ta1_hist.append(d_acc1)\n",
        "\t\t\ta2_hist.append(d_acc2)\n",
        "\t# save plot to directory\n",
        "\tplot_history(d1_hist, d2_hist, g_hist, a1_hist, a2_hist)\n"
      ]
    },
    {
      "cell_type": "code",
      "execution_count": 8,
      "metadata": {
        "id": "LuVfdG7CFKtv",
        "colab": {
          "base_uri": "https://localhost:8080/"
        },
        "outputId": "b4dbd5a0-d54e-4419-87f7-fdfa16789629"
      },
      "outputs": [
        {
          "output_type": "stream",
          "name": "stderr",
          "text": [
            "/usr/local/lib/python3.9/dist-packages/keras/optimizers/optimizer_v2/adam.py:117: UserWarning: The `lr` argument is deprecated, use `learning_rate` instead.\n",
            "  super().__init__(name, **kwargs)\n",
            "WARNING:tensorflow:From /usr/local/lib/python3.9/dist-packages/tensorflow/python/autograph/pyct/static_analysis/liveness.py:83: Analyzer.lamba_check (from tensorflow.python.autograph.pyct.static_analysis.liveness) is deprecated and will be removed after 2023-09-23.\n",
            "Instructions for updating:\n",
            "Lambda fuctions will be no more assumed to be used in the statement where they are used, or at least in the same block. https://github.com/tensorflow/tensorflow/issues/56089\n"
          ]
        },
        {
          "output_type": "stream",
          "name": "stdout",
          "text": [
            ">1, 5/11, d1=0.013, d2=0.682 g=0.720\n",
            ">1, 10/11, d1=0.015, d2=0.237 g=2.151\n",
            ">2, 5/11, d1=0.000, d2=0.005 g=8.113\n",
            ">2, 10/11, d1=0.065, d2=0.001 g=6.729\n",
            ">3, 5/11, d1=0.031, d2=0.053 g=5.431\n",
            ">3, 10/11, d1=0.015, d2=0.096 g=3.417\n",
            ">4, 5/11, d1=0.028, d2=0.020 g=4.920\n",
            ">4, 10/11, d1=0.148, d2=0.046 g=3.652\n",
            ">5, 5/11, d1=0.046, d2=0.025 g=4.028\n",
            ">5, 10/11, d1=0.007, d2=0.026 g=4.237\n",
            ">6, 5/11, d1=0.057, d2=0.038 g=3.821\n",
            ">6, 10/11, d1=0.090, d2=0.044 g=3.412\n",
            ">7, 5/11, d1=0.000, d2=0.019 g=4.301\n",
            ">7, 10/11, d1=0.075, d2=0.014 g=4.144\n",
            ">8, 5/11, d1=0.001, d2=0.006 g=5.890\n",
            ">8, 10/11, d1=0.010, d2=0.007 g=4.980\n",
            ">9, 5/11, d1=4.976, d2=0.005 g=8.572\n",
            ">9, 10/11, d1=0.344, d2=0.501 g=4.852\n",
            ">10, 5/11, d1=0.312, d2=0.082 g=2.983\n",
            ">10, 10/11, d1=0.209, d2=0.079 g=2.869\n",
            ">Accuracy real: 91%, fake: 100%\n"
          ]
        },
        {
          "output_type": "stream",
          "name": "stderr",
          "text": [
            "WARNING:tensorflow:Compiled the loaded model, but the compiled metrics have yet to be built. `model.compile_metrics` will be empty until you train or evaluate the model.\n"
          ]
        },
        {
          "output_type": "stream",
          "name": "stdout",
          "text": [
            ">11, 5/11, d1=0.322, d2=0.070 g=3.049\n",
            ">11, 10/11, d1=0.183, d2=0.062 g=3.177\n",
            ">12, 5/11, d1=0.172, d2=0.061 g=3.435\n",
            ">12, 10/11, d1=0.061, d2=0.018 g=4.964\n",
            ">13, 5/11, d1=0.023, d2=0.000 g=9.168\n",
            ">13, 10/11, d1=0.036, d2=0.065 g=2.868\n",
            ">14, 5/11, d1=0.092, d2=0.712 g=3.212\n",
            ">14, 10/11, d1=0.166, d2=0.011 g=4.792\n",
            ">15, 5/11, d1=0.025, d2=0.028 g=4.773\n",
            ">15, 10/11, d1=0.101, d2=0.053 g=3.928\n",
            ">16, 5/11, d1=0.114, d2=0.183 g=6.720\n",
            ">16, 10/11, d1=0.080, d2=0.127 g=2.296\n",
            ">17, 5/11, d1=0.242, d2=0.197 g=2.630\n",
            ">17, 10/11, d1=0.278, d2=0.171 g=2.215\n",
            ">18, 5/11, d1=0.185, d2=0.107 g=2.672\n",
            ">18, 10/11, d1=0.137, d2=0.041 g=3.571\n",
            ">19, 5/11, d1=0.044, d2=0.011 g=5.167\n",
            ">19, 10/11, d1=0.037, d2=0.014 g=5.079\n",
            ">20, 5/11, d1=1.146, d2=0.001 g=6.682\n",
            ">20, 10/11, d1=0.035, d2=0.046 g=4.001\n",
            ">Accuracy real: 97%, fake: 100%\n"
          ]
        },
        {
          "output_type": "stream",
          "name": "stderr",
          "text": [
            "WARNING:tensorflow:Compiled the loaded model, but the compiled metrics have yet to be built. `model.compile_metrics` will be empty until you train or evaluate the model.\n"
          ]
        },
        {
          "output_type": "stream",
          "name": "stdout",
          "text": [
            ">21, 5/11, d1=0.000, d2=0.094 g=3.655\n",
            ">21, 10/11, d1=1.971, d2=0.005 g=4.244\n",
            ">22, 5/11, d1=0.009, d2=0.040 g=3.529\n",
            ">22, 10/11, d1=0.301, d2=0.030 g=3.562\n",
            ">23, 5/11, d1=0.121, d2=0.062 g=3.198\n",
            ">23, 10/11, d1=0.134, d2=0.072 g=2.833\n",
            ">24, 5/11, d1=0.140, d2=0.092 g=3.895\n",
            ">24, 10/11, d1=0.058, d2=0.114 g=2.695\n",
            ">25, 5/11, d1=0.285, d2=0.073 g=2.738\n",
            ">25, 10/11, d1=0.222, d2=0.086 g=2.731\n",
            ">26, 5/11, d1=0.077, d2=0.096 g=2.747\n",
            ">26, 10/11, d1=0.054, d2=0.041 g=3.425\n",
            ">27, 5/11, d1=0.066, d2=0.048 g=3.274\n",
            ">27, 10/11, d1=0.120, d2=0.058 g=3.138\n",
            ">28, 5/11, d1=0.049, d2=0.038 g=3.627\n",
            ">28, 10/11, d1=0.041, d2=0.172 g=7.387\n",
            ">29, 5/11, d1=0.483, d2=0.045 g=3.012\n",
            ">29, 10/11, d1=0.075, d2=0.046 g=3.217\n",
            ">30, 5/11, d1=0.006, d2=0.030 g=3.628\n",
            ">30, 10/11, d1=0.007, d2=0.069 g=2.866\n",
            ">Accuracy real: 100%, fake: 81%\n"
          ]
        },
        {
          "output_type": "stream",
          "name": "stderr",
          "text": [
            "WARNING:tensorflow:Compiled the loaded model, but the compiled metrics have yet to be built. `model.compile_metrics` will be empty until you train or evaluate the model.\n"
          ]
        },
        {
          "output_type": "stream",
          "name": "stdout",
          "text": [
            ">31, 5/11, d1=0.424, d2=0.624 g=4.943\n",
            ">31, 10/11, d1=0.234, d2=0.164 g=2.283\n",
            ">32, 5/11, d1=0.164, d2=0.069 g=2.896\n",
            ">32, 10/11, d1=0.248, d2=0.139 g=2.755\n",
            ">33, 5/11, d1=0.008, d2=0.311 g=8.708\n",
            ">33, 10/11, d1=0.137, d2=0.096 g=2.893\n",
            ">34, 5/11, d1=0.113, d2=0.078 g=3.814\n",
            ">34, 10/11, d1=0.100, d2=0.036 g=4.017\n",
            ">35, 5/11, d1=0.082, d2=0.094 g=3.806\n",
            ">35, 10/11, d1=0.440, d2=0.087 g=3.027\n",
            ">36, 5/11, d1=0.129, d2=0.033 g=3.667\n",
            ">36, 10/11, d1=0.059, d2=0.058 g=3.235\n",
            ">37, 5/11, d1=0.234, d2=0.086 g=2.861\n",
            ">37, 10/11, d1=0.212, d2=0.036 g=3.453\n",
            ">38, 5/11, d1=0.109, d2=0.057 g=3.136\n",
            ">38, 10/11, d1=0.150, d2=0.040 g=3.393\n",
            ">39, 5/11, d1=0.094, d2=0.037 g=3.449\n",
            ">39, 10/11, d1=0.063, d2=0.046 g=3.215\n",
            ">40, 5/11, d1=0.186, d2=0.047 g=3.147\n",
            ">40, 10/11, d1=0.085, d2=0.045 g=3.231\n",
            ">Accuracy real: 97%, fake: 100%\n"
          ]
        },
        {
          "output_type": "stream",
          "name": "stderr",
          "text": [
            "WARNING:tensorflow:Compiled the loaded model, but the compiled metrics have yet to be built. `model.compile_metrics` will be empty until you train or evaluate the model.\n"
          ]
        },
        {
          "output_type": "stream",
          "name": "stdout",
          "text": [
            ">41, 5/11, d1=0.073, d2=0.031 g=3.599\n",
            ">41, 10/11, d1=0.003, d2=0.044 g=3.435\n",
            ">42, 5/11, d1=0.030, d2=0.046 g=3.522\n",
            ">42, 10/11, d1=0.128, d2=0.038 g=3.486\n",
            ">43, 5/11, d1=0.205, d2=0.049 g=3.238\n",
            ">43, 10/11, d1=0.106, d2=0.016 g=4.220\n",
            ">44, 5/11, d1=0.093, d2=0.024 g=3.860\n",
            ">44, 10/11, d1=0.041, d2=0.018 g=4.128\n",
            ">45, 5/11, d1=0.005, d2=0.038 g=3.548\n",
            ">45, 10/11, d1=0.144, d2=0.033 g=3.574\n",
            ">46, 5/11, d1=0.034, d2=0.015 g=4.273\n",
            ">46, 10/11, d1=0.103, d2=0.038 g=3.480\n",
            ">47, 5/11, d1=0.000, d2=0.016 g=4.384\n",
            ">47, 10/11, d1=0.142, d2=0.049 g=3.296\n",
            ">48, 5/11, d1=0.104, d2=0.036 g=3.601\n",
            ">48, 10/11, d1=0.191, d2=0.023 g=3.842\n",
            ">49, 5/11, d1=0.271, d2=0.008 g=4.879\n",
            ">49, 10/11, d1=0.058, d2=0.013 g=4.433\n",
            ">50, 5/11, d1=0.117, d2=34.956 g=7.102\n",
            ">50, 10/11, d1=0.428, d2=0.089 g=2.517\n",
            ">Accuracy real: 89%, fake: 100%\n"
          ]
        },
        {
          "output_type": "stream",
          "name": "stderr",
          "text": [
            "WARNING:tensorflow:Compiled the loaded model, but the compiled metrics have yet to be built. `model.compile_metrics` will be empty until you train or evaluate the model.\n"
          ]
        },
        {
          "output_type": "stream",
          "name": "stdout",
          "text": [
            ">51, 5/11, d1=0.228, d2=0.262 g=2.123\n",
            ">51, 10/11, d1=0.285, d2=0.122 g=2.388\n",
            ">52, 5/11, d1=0.303, d2=0.460 g=2.511\n",
            ">52, 10/11, d1=0.300, d2=0.161 g=3.191\n",
            ">53, 5/11, d1=0.510, d2=0.163 g=2.580\n",
            ">53, 10/11, d1=0.342, d2=0.134 g=2.666\n",
            ">54, 5/11, d1=0.306, d2=0.157 g=2.443\n",
            ">54, 10/11, d1=0.299, d2=0.132 g=2.603\n",
            ">55, 5/11, d1=0.227, d2=0.140 g=2.659\n",
            ">55, 10/11, d1=1.885, d2=0.008 g=4.941\n",
            ">56, 5/11, d1=0.255, d2=0.298 g=2.340\n",
            ">56, 10/11, d1=0.544, d2=0.271 g=1.979\n",
            ">57, 5/11, d1=0.409, d2=0.208 g=2.541\n",
            ">57, 10/11, d1=0.301, d2=0.736 g=4.970\n",
            ">58, 5/11, d1=0.095, d2=0.629 g=3.670\n",
            ">58, 10/11, d1=0.173, d2=0.201 g=2.306\n",
            ">59, 5/11, d1=0.554, d2=1.046 g=4.447\n",
            ">59, 10/11, d1=0.220, d2=0.135 g=2.929\n",
            ">60, 5/11, d1=0.070, d2=0.140 g=2.639\n",
            ">60, 10/11, d1=0.108, d2=0.091 g=3.109\n",
            ">Accuracy real: 95%, fake: 100%\n"
          ]
        },
        {
          "output_type": "stream",
          "name": "stderr",
          "text": [
            "WARNING:tensorflow:Compiled the loaded model, but the compiled metrics have yet to be built. `model.compile_metrics` will be empty until you train or evaluate the model.\n"
          ]
        },
        {
          "output_type": "stream",
          "name": "stdout",
          "text": [
            ">61, 5/11, d1=0.153, d2=0.329 g=6.057\n",
            ">61, 10/11, d1=0.656, d2=3.306 g=9.383\n",
            ">62, 5/11, d1=0.159, d2=0.151 g=2.240\n",
            ">62, 10/11, d1=0.358, d2=0.121 g=2.315\n",
            ">63, 5/11, d1=0.094, d2=0.072 g=3.136\n",
            ">63, 10/11, d1=0.301, d2=0.615 g=4.883\n",
            ">64, 5/11, d1=0.173, d2=0.377 g=3.571\n",
            ">64, 10/11, d1=0.288, d2=0.676 g=2.621\n",
            ">65, 5/11, d1=0.465, d2=0.300 g=1.944\n",
            ">65, 10/11, d1=0.191, d2=0.383 g=2.151\n",
            ">66, 5/11, d1=0.371, d2=0.326 g=2.910\n",
            ">66, 10/11, d1=0.309, d2=0.142 g=3.067\n",
            ">67, 5/11, d1=0.493, d2=0.273 g=3.361\n",
            ">67, 10/11, d1=0.472, d2=0.450 g=2.582\n",
            ">68, 5/11, d1=0.477, d2=0.244 g=2.321\n",
            ">68, 10/11, d1=0.413, d2=0.805 g=5.347\n",
            ">69, 5/11, d1=0.249, d2=0.445 g=2.059\n",
            ">69, 10/11, d1=0.423, d2=0.536 g=2.576\n",
            ">70, 5/11, d1=0.553, d2=0.450 g=2.206\n",
            ">70, 10/11, d1=0.891, d2=0.578 g=1.523\n",
            ">Accuracy real: 59%, fake: 92%\n"
          ]
        },
        {
          "output_type": "stream",
          "name": "stderr",
          "text": [
            "WARNING:tensorflow:Compiled the loaded model, but the compiled metrics have yet to be built. `model.compile_metrics` will be empty until you train or evaluate the model.\n"
          ]
        },
        {
          "output_type": "stream",
          "name": "stdout",
          "text": [
            ">71, 5/11, d1=0.318, d2=0.512 g=2.598\n",
            ">71, 10/11, d1=0.641, d2=0.355 g=1.970\n",
            ">72, 5/11, d1=0.252, d2=0.246 g=2.190\n",
            ">72, 10/11, d1=0.974, d2=0.611 g=1.933\n",
            ">73, 5/11, d1=0.786, d2=0.361 g=1.959\n",
            ">73, 10/11, d1=0.574, d2=0.372 g=2.170\n",
            ">74, 5/11, d1=0.364, d2=0.314 g=2.245\n",
            ">74, 10/11, d1=0.673, d2=0.778 g=1.697\n",
            ">75, 5/11, d1=0.398, d2=0.386 g=1.415\n",
            ">75, 10/11, d1=0.387, d2=0.274 g=1.801\n",
            ">76, 5/11, d1=0.464, d2=0.363 g=1.564\n",
            ">76, 10/11, d1=0.378, d2=0.454 g=1.613\n",
            ">77, 5/11, d1=0.156, d2=0.133 g=2.545\n",
            ">77, 10/11, d1=1.045, d2=0.740 g=1.454\n",
            ">78, 5/11, d1=0.725, d2=0.587 g=2.015\n",
            ">78, 10/11, d1=0.815, d2=0.562 g=1.873\n",
            ">79, 5/11, d1=0.408, d2=0.298 g=1.744\n",
            ">79, 10/11, d1=0.180, d2=0.199 g=2.097\n",
            ">80, 5/11, d1=0.239, d2=0.310 g=2.479\n",
            ">80, 10/11, d1=0.177, d2=0.103 g=2.857\n",
            ">Accuracy real: 76%, fake: 99%\n"
          ]
        },
        {
          "output_type": "stream",
          "name": "stderr",
          "text": [
            "WARNING:tensorflow:Compiled the loaded model, but the compiled metrics have yet to be built. `model.compile_metrics` will be empty until you train or evaluate the model.\n"
          ]
        },
        {
          "output_type": "stream",
          "name": "stdout",
          "text": [
            ">81, 5/11, d1=0.863, d2=1.072 g=2.047\n",
            ">81, 10/11, d1=0.599, d2=0.638 g=2.486\n",
            ">82, 5/11, d1=0.501, d2=0.439 g=1.665\n",
            ">82, 10/11, d1=0.289, d2=0.193 g=2.278\n",
            ">83, 5/11, d1=0.362, d2=0.848 g=2.382\n",
            ">83, 10/11, d1=0.491, d2=0.384 g=1.867\n",
            ">84, 5/11, d1=0.743, d2=0.644 g=1.700\n",
            ">84, 10/11, d1=0.447, d2=0.334 g=1.754\n",
            ">85, 5/11, d1=0.611, d2=0.374 g=2.164\n",
            ">85, 10/11, d1=0.372, d2=0.413 g=1.735\n",
            ">86, 5/11, d1=0.296, d2=0.585 g=2.155\n",
            ">86, 10/11, d1=0.435, d2=0.235 g=2.210\n",
            ">87, 5/11, d1=0.229, d2=0.351 g=2.414\n",
            ">87, 10/11, d1=0.292, d2=0.227 g=3.184\n",
            ">88, 5/11, d1=0.569, d2=0.276 g=3.710\n",
            ">88, 10/11, d1=0.823, d2=1.764 g=2.561\n",
            ">89, 5/11, d1=0.777, d2=0.479 g=1.803\n",
            ">89, 10/11, d1=0.389, d2=0.387 g=1.660\n",
            ">90, 5/11, d1=0.408, d2=0.303 g=2.183\n",
            ">90, 10/11, d1=0.519, d2=0.373 g=2.417\n",
            ">Accuracy real: 71%, fake: 98%\n"
          ]
        },
        {
          "output_type": "stream",
          "name": "stderr",
          "text": [
            "WARNING:tensorflow:Compiled the loaded model, but the compiled metrics have yet to be built. `model.compile_metrics` will be empty until you train or evaluate the model.\n"
          ]
        },
        {
          "output_type": "stream",
          "name": "stdout",
          "text": [
            ">91, 5/11, d1=0.496, d2=0.383 g=1.900\n",
            ">91, 10/11, d1=0.683, d2=0.642 g=1.646\n",
            ">92, 5/11, d1=0.529, d2=0.479 g=1.960\n",
            ">92, 10/11, d1=0.521, d2=0.380 g=1.700\n",
            ">93, 5/11, d1=0.386, d2=0.329 g=2.204\n",
            ">93, 10/11, d1=0.332, d2=0.513 g=1.949\n",
            ">94, 5/11, d1=0.269, d2=0.183 g=2.823\n",
            ">94, 10/11, d1=0.244, d2=0.178 g=2.959\n",
            ">95, 5/11, d1=0.440, d2=0.349 g=1.780\n",
            ">95, 10/11, d1=0.151, d2=0.258 g=2.131\n",
            ">96, 5/11, d1=1.074, d2=0.722 g=1.771\n",
            ">96, 10/11, d1=0.442, d2=0.578 g=1.829\n",
            ">97, 5/11, d1=0.305, d2=0.302 g=1.906\n",
            ">97, 10/11, d1=0.623, d2=0.264 g=1.828\n",
            ">98, 5/11, d1=0.397, d2=0.297 g=2.348\n",
            ">98, 10/11, d1=0.505, d2=0.763 g=2.663\n",
            ">99, 5/11, d1=0.639, d2=0.392 g=1.774\n",
            ">99, 10/11, d1=0.507, d2=0.392 g=1.739\n",
            ">100, 5/11, d1=0.458, d2=0.444 g=1.750\n",
            ">100, 10/11, d1=0.385, d2=0.592 g=1.716\n",
            ">Accuracy real: 57%, fake: 100%\n"
          ]
        },
        {
          "output_type": "stream",
          "name": "stderr",
          "text": [
            "WARNING:tensorflow:Compiled the loaded model, but the compiled metrics have yet to be built. `model.compile_metrics` will be empty until you train or evaluate the model.\n"
          ]
        },
        {
          "output_type": "stream",
          "name": "stdout",
          "text": [
            ">101, 5/11, d1=0.574, d2=0.450 g=2.240\n",
            ">101, 10/11, d1=0.419, d2=0.352 g=1.943\n",
            ">102, 5/11, d1=0.378, d2=0.465 g=2.586\n",
            ">102, 10/11, d1=0.291, d2=0.373 g=2.062\n",
            ">103, 5/11, d1=0.480, d2=0.527 g=2.697\n",
            ">103, 10/11, d1=0.549, d2=0.585 g=2.868\n",
            ">104, 5/11, d1=0.359, d2=0.657 g=2.755\n",
            ">104, 10/11, d1=0.852, d2=0.357 g=1.700\n",
            ">105, 5/11, d1=0.554, d2=0.562 g=1.537\n",
            ">105, 10/11, d1=0.533, d2=0.598 g=1.775\n",
            ">106, 5/11, d1=0.459, d2=0.427 g=2.156\n",
            ">106, 10/11, d1=0.312, d2=0.383 g=1.769\n",
            ">107, 5/11, d1=0.370, d2=0.367 g=2.645\n",
            ">107, 10/11, d1=0.423, d2=0.460 g=1.912\n",
            ">108, 5/11, d1=0.408, d2=0.317 g=1.810\n",
            ">108, 10/11, d1=0.932, d2=0.190 g=3.025\n",
            ">109, 5/11, d1=0.537, d2=0.548 g=2.557\n",
            ">109, 10/11, d1=0.368, d2=0.282 g=2.678\n",
            ">110, 5/11, d1=0.694, d2=0.431 g=2.828\n",
            ">110, 10/11, d1=0.244, d2=0.418 g=2.514\n",
            ">Accuracy real: 91%, fake: 94%\n"
          ]
        },
        {
          "output_type": "stream",
          "name": "stderr",
          "text": [
            "WARNING:tensorflow:Compiled the loaded model, but the compiled metrics have yet to be built. `model.compile_metrics` will be empty until you train or evaluate the model.\n"
          ]
        },
        {
          "output_type": "stream",
          "name": "stdout",
          "text": [
            ">111, 5/11, d1=0.641, d2=0.468 g=2.668\n",
            ">111, 10/11, d1=0.720, d2=0.526 g=2.581\n",
            ">112, 5/11, d1=0.442, d2=0.313 g=1.966\n",
            ">112, 10/11, d1=0.531, d2=0.833 g=2.295\n",
            ">113, 5/11, d1=0.964, d2=0.490 g=2.068\n",
            ">113, 10/11, d1=0.653, d2=0.415 g=1.856\n",
            ">114, 5/11, d1=0.447, d2=0.251 g=1.854\n",
            ">114, 10/11, d1=0.830, d2=0.449 g=1.928\n",
            ">115, 5/11, d1=0.833, d2=0.377 g=1.554\n",
            ">115, 10/11, d1=0.666, d2=0.426 g=1.693\n",
            ">116, 5/11, d1=0.503, d2=0.897 g=2.113\n",
            ">116, 10/11, d1=0.756, d2=0.510 g=1.417\n",
            ">117, 5/11, d1=0.404, d2=0.262 g=2.119\n",
            ">117, 10/11, d1=0.532, d2=0.621 g=1.554\n",
            ">118, 5/11, d1=0.647, d2=0.459 g=1.590\n",
            ">118, 10/11, d1=0.466, d2=0.473 g=1.882\n",
            ">119, 5/11, d1=0.510, d2=0.576 g=1.519\n",
            ">119, 10/11, d1=0.403, d2=0.493 g=1.769\n",
            ">120, 5/11, d1=1.085, d2=0.382 g=1.868\n",
            ">120, 10/11, d1=0.530, d2=0.411 g=1.642\n",
            ">Accuracy real: 75%, fake: 99%\n"
          ]
        },
        {
          "output_type": "stream",
          "name": "stderr",
          "text": [
            "WARNING:tensorflow:Compiled the loaded model, but the compiled metrics have yet to be built. `model.compile_metrics` will be empty until you train or evaluate the model.\n"
          ]
        },
        {
          "output_type": "stream",
          "name": "stdout",
          "text": [
            ">121, 5/11, d1=0.419, d2=0.345 g=1.921\n",
            ">121, 10/11, d1=0.259, d2=0.372 g=1.989\n",
            ">122, 5/11, d1=0.604, d2=0.568 g=3.039\n",
            ">122, 10/11, d1=0.551, d2=0.724 g=2.034\n",
            ">123, 5/11, d1=0.460, d2=0.621 g=2.123\n",
            ">123, 10/11, d1=0.739, d2=1.494 g=1.640\n",
            ">124, 5/11, d1=0.721, d2=0.605 g=1.159\n",
            ">124, 10/11, d1=0.598, d2=0.541 g=1.252\n",
            ">125, 5/11, d1=0.572, d2=0.465 g=1.260\n",
            ">125, 10/11, d1=0.566, d2=0.407 g=1.453\n",
            ">126, 5/11, d1=0.472, d2=0.483 g=1.329\n",
            ">126, 10/11, d1=0.497, d2=0.436 g=1.932\n",
            ">127, 5/11, d1=0.506, d2=0.306 g=2.192\n",
            ">127, 10/11, d1=0.518, d2=0.456 g=1.941\n",
            ">128, 5/11, d1=0.384, d2=0.486 g=1.766\n",
            ">128, 10/11, d1=0.534, d2=0.482 g=1.910\n",
            ">129, 5/11, d1=1.169, d2=0.423 g=1.592\n",
            ">129, 10/11, d1=0.684, d2=0.497 g=1.304\n",
            ">130, 5/11, d1=0.471, d2=0.537 g=1.463\n",
            ">130, 10/11, d1=0.472, d2=0.542 g=1.294\n",
            ">Accuracy real: 71%, fake: 97%\n"
          ]
        },
        {
          "output_type": "stream",
          "name": "stderr",
          "text": [
            "WARNING:tensorflow:Compiled the loaded model, but the compiled metrics have yet to be built. `model.compile_metrics` will be empty until you train or evaluate the model.\n"
          ]
        },
        {
          "output_type": "stream",
          "name": "stdout",
          "text": [
            ">131, 5/11, d1=0.525, d2=0.503 g=1.383\n",
            ">131, 10/11, d1=0.425, d2=0.469 g=1.463\n",
            ">132, 5/11, d1=0.383, d2=0.431 g=1.585\n",
            ">132, 10/11, d1=0.351, d2=0.498 g=1.645\n",
            ">133, 5/11, d1=0.605, d2=0.727 g=1.612\n",
            ">133, 10/11, d1=0.636, d2=0.433 g=1.862\n",
            ">134, 5/11, d1=0.491, d2=0.419 g=1.755\n",
            ">134, 10/11, d1=0.579, d2=0.561 g=1.308\n",
            ">135, 5/11, d1=0.683, d2=0.552 g=1.398\n",
            ">135, 10/11, d1=0.379, d2=1.009 g=1.393\n",
            ">136, 5/11, d1=0.324, d2=0.348 g=1.657\n",
            ">136, 10/11, d1=0.252, d2=0.396 g=1.712\n",
            ">137, 5/11, d1=0.365, d2=0.528 g=1.808\n",
            ">137, 10/11, d1=0.618, d2=0.501 g=2.063\n",
            ">138, 5/11, d1=0.552, d2=0.453 g=1.902\n",
            ">138, 10/11, d1=0.492, d2=0.611 g=2.381\n",
            ">139, 5/11, d1=0.525, d2=0.398 g=1.805\n",
            ">139, 10/11, d1=0.599, d2=0.474 g=1.607\n",
            ">140, 5/11, d1=0.729, d2=0.773 g=2.060\n",
            ">140, 10/11, d1=0.617, d2=0.537 g=1.912\n",
            ">Accuracy real: 72%, fake: 98%\n"
          ]
        },
        {
          "output_type": "stream",
          "name": "stderr",
          "text": [
            "WARNING:tensorflow:Compiled the loaded model, but the compiled metrics have yet to be built. `model.compile_metrics` will be empty until you train or evaluate the model.\n"
          ]
        },
        {
          "output_type": "stream",
          "name": "stdout",
          "text": [
            ">141, 5/11, d1=0.450, d2=0.553 g=1.513\n",
            ">141, 10/11, d1=0.561, d2=0.743 g=1.946\n",
            ">142, 5/11, d1=0.693, d2=0.683 g=1.517\n",
            ">142, 10/11, d1=0.397, d2=0.468 g=1.283\n",
            ">143, 5/11, d1=0.423, d2=0.633 g=1.718\n",
            ">143, 10/11, d1=0.394, d2=0.468 g=1.867\n",
            ">144, 5/11, d1=0.861, d2=0.271 g=1.879\n",
            ">144, 10/11, d1=0.443, d2=0.380 g=1.957\n",
            ">145, 5/11, d1=0.469, d2=0.394 g=1.622\n",
            ">145, 10/11, d1=0.388, d2=0.535 g=2.455\n",
            ">146, 5/11, d1=0.697, d2=0.410 g=1.405\n",
            ">146, 10/11, d1=0.304, d2=0.542 g=1.680\n",
            ">147, 5/11, d1=0.545, d2=0.599 g=2.246\n",
            ">147, 10/11, d1=0.761, d2=0.632 g=1.533\n",
            ">148, 5/11, d1=0.572, d2=0.460 g=1.320\n",
            ">148, 10/11, d1=0.332, d2=0.500 g=1.486\n",
            ">149, 5/11, d1=0.459, d2=0.345 g=1.849\n",
            ">149, 10/11, d1=0.310, d2=0.356 g=1.724\n",
            ">150, 5/11, d1=0.423, d2=0.380 g=1.797\n",
            ">150, 10/11, d1=0.441, d2=0.495 g=2.472\n",
            ">Accuracy real: 77%, fake: 99%\n"
          ]
        },
        {
          "output_type": "stream",
          "name": "stderr",
          "text": [
            "WARNING:tensorflow:Compiled the loaded model, but the compiled metrics have yet to be built. `model.compile_metrics` will be empty until you train or evaluate the model.\n"
          ]
        },
        {
          "output_type": "stream",
          "name": "stdout",
          "text": [
            ">151, 5/11, d1=0.476, d2=0.711 g=2.135\n",
            ">151, 10/11, d1=0.497, d2=0.371 g=2.056\n",
            ">152, 5/11, d1=0.424, d2=0.445 g=2.111\n",
            ">152, 10/11, d1=0.891, d2=0.338 g=2.630\n",
            ">153, 5/11, d1=0.410, d2=0.407 g=2.622\n",
            ">153, 10/11, d1=0.471, d2=0.425 g=2.004\n",
            ">154, 5/11, d1=0.739, d2=0.585 g=1.248\n",
            ">154, 10/11, d1=0.555, d2=0.438 g=1.684\n",
            ">155, 5/11, d1=0.460, d2=0.464 g=2.335\n",
            ">155, 10/11, d1=0.661, d2=0.721 g=1.641\n",
            ">156, 5/11, d1=0.462, d2=0.449 g=2.208\n",
            ">156, 10/11, d1=0.344, d2=0.453 g=1.600\n",
            ">157, 5/11, d1=0.520, d2=0.426 g=1.619\n",
            ">157, 10/11, d1=0.455, d2=0.308 g=2.167\n",
            ">158, 5/11, d1=0.304, d2=0.400 g=1.980\n",
            ">158, 10/11, d1=0.866, d2=0.540 g=1.735\n",
            ">159, 5/11, d1=0.670, d2=0.358 g=1.858\n",
            ">159, 10/11, d1=0.630, d2=0.587 g=1.983\n",
            ">160, 5/11, d1=0.559, d2=0.556 g=1.807\n",
            ">160, 10/11, d1=0.549, d2=0.368 g=1.600\n",
            ">Accuracy real: 95%, fake: 98%\n"
          ]
        },
        {
          "output_type": "stream",
          "name": "stderr",
          "text": [
            "WARNING:tensorflow:Compiled the loaded model, but the compiled metrics have yet to be built. `model.compile_metrics` will be empty until you train or evaluate the model.\n"
          ]
        },
        {
          "output_type": "stream",
          "name": "stdout",
          "text": [
            ">161, 5/11, d1=0.414, d2=0.478 g=1.988\n",
            ">161, 10/11, d1=0.523, d2=0.508 g=1.683\n",
            ">162, 5/11, d1=0.505, d2=0.511 g=1.885\n",
            ">162, 10/11, d1=0.607, d2=0.540 g=2.240\n",
            ">163, 5/11, d1=0.586, d2=0.634 g=2.103\n",
            ">163, 10/11, d1=0.444, d2=0.408 g=1.836\n",
            ">164, 5/11, d1=0.342, d2=0.504 g=2.210\n",
            ">164, 10/11, d1=0.640, d2=0.247 g=2.358\n",
            ">165, 5/11, d1=0.542, d2=0.760 g=2.954\n",
            ">165, 10/11, d1=0.490, d2=0.461 g=2.384\n",
            ">166, 5/11, d1=0.936, d2=0.499 g=2.721\n",
            ">166, 10/11, d1=0.702, d2=0.455 g=2.005\n",
            ">167, 5/11, d1=0.675, d2=0.683 g=1.867\n",
            ">167, 10/11, d1=0.512, d2=0.384 g=2.138\n",
            ">168, 5/11, d1=0.533, d2=0.488 g=1.889\n",
            ">168, 10/11, d1=0.398, d2=0.473 g=2.260\n",
            ">169, 5/11, d1=0.340, d2=0.282 g=2.915\n",
            ">169, 10/11, d1=0.308, d2=0.689 g=2.998\n",
            ">170, 5/11, d1=0.590, d2=0.407 g=2.194\n",
            ">170, 10/11, d1=0.462, d2=0.505 g=1.723\n",
            ">Accuracy real: 75%, fake: 94%\n"
          ]
        },
        {
          "output_type": "stream",
          "name": "stderr",
          "text": [
            "WARNING:tensorflow:Compiled the loaded model, but the compiled metrics have yet to be built. `model.compile_metrics` will be empty until you train or evaluate the model.\n"
          ]
        },
        {
          "output_type": "stream",
          "name": "stdout",
          "text": [
            ">171, 5/11, d1=0.386, d2=0.340 g=2.003\n",
            ">171, 10/11, d1=0.548, d2=0.468 g=1.812\n",
            ">172, 5/11, d1=0.563, d2=0.414 g=1.829\n",
            ">172, 10/11, d1=0.522, d2=0.552 g=1.868\n",
            ">173, 5/11, d1=0.550, d2=0.365 g=1.915\n",
            ">173, 10/11, d1=0.447, d2=0.557 g=2.032\n",
            ">174, 5/11, d1=0.575, d2=0.480 g=2.250\n",
            ">174, 10/11, d1=0.418, d2=0.499 g=2.198\n",
            ">175, 5/11, d1=0.513, d2=0.480 g=2.334\n",
            ">175, 10/11, d1=0.482, d2=0.325 g=2.290\n",
            ">176, 5/11, d1=0.895, d2=0.315 g=2.367\n",
            ">176, 10/11, d1=0.533, d2=0.566 g=2.374\n",
            ">177, 5/11, d1=0.510, d2=0.673 g=2.373\n",
            ">177, 10/11, d1=0.639, d2=0.502 g=2.163\n",
            ">178, 5/11, d1=0.312, d2=0.361 g=2.363\n",
            ">178, 10/11, d1=0.417, d2=0.244 g=2.466\n",
            ">179, 5/11, d1=0.231, d2=0.646 g=3.749\n",
            ">179, 10/11, d1=0.415, d2=0.480 g=2.129\n",
            ">180, 5/11, d1=0.575, d2=0.358 g=2.427\n",
            ">180, 10/11, d1=0.448, d2=0.250 g=2.895\n",
            ">Accuracy real: 50%, fake: 99%\n"
          ]
        },
        {
          "output_type": "stream",
          "name": "stderr",
          "text": [
            "WARNING:tensorflow:Compiled the loaded model, but the compiled metrics have yet to be built. `model.compile_metrics` will be empty until you train or evaluate the model.\n"
          ]
        },
        {
          "output_type": "stream",
          "name": "stdout",
          "text": [
            ">181, 5/11, d1=0.498, d2=0.442 g=1.995\n",
            ">181, 10/11, d1=0.536, d2=0.259 g=2.091\n",
            ">182, 5/11, d1=0.494, d2=0.804 g=2.586\n",
            ">182, 10/11, d1=0.464, d2=0.459 g=1.757\n",
            ">183, 5/11, d1=0.345, d2=0.442 g=2.861\n",
            ">183, 10/11, d1=0.422, d2=0.350 g=2.470\n",
            ">184, 5/11, d1=0.675, d2=0.366 g=1.923\n",
            ">184, 10/11, d1=0.333, d2=0.455 g=1.935\n",
            ">185, 5/11, d1=0.327, d2=0.561 g=2.890\n",
            ">185, 10/11, d1=0.510, d2=0.470 g=2.527\n",
            ">186, 5/11, d1=0.416, d2=0.286 g=2.779\n",
            ">186, 10/11, d1=1.204, d2=0.933 g=2.407\n",
            ">187, 5/11, d1=0.433, d2=0.321 g=2.236\n",
            ">187, 10/11, d1=0.527, d2=0.364 g=2.103\n",
            ">188, 5/11, d1=0.383, d2=0.309 g=2.190\n",
            ">188, 10/11, d1=0.380, d2=0.286 g=2.471\n",
            ">189, 5/11, d1=0.334, d2=0.749 g=2.407\n",
            ">189, 10/11, d1=0.688, d2=0.369 g=2.627\n",
            ">190, 5/11, d1=0.399, d2=0.471 g=2.298\n",
            ">190, 10/11, d1=0.434, d2=0.518 g=2.515\n",
            ">Accuracy real: 70%, fake: 69%\n"
          ]
        },
        {
          "output_type": "stream",
          "name": "stderr",
          "text": [
            "WARNING:tensorflow:Compiled the loaded model, but the compiled metrics have yet to be built. `model.compile_metrics` will be empty until you train or evaluate the model.\n"
          ]
        },
        {
          "output_type": "stream",
          "name": "stdout",
          "text": [
            ">191, 5/11, d1=0.362, d2=0.845 g=3.550\n",
            ">191, 10/11, d1=0.448, d2=0.331 g=2.549\n",
            ">192, 5/11, d1=0.293, d2=0.332 g=2.570\n",
            ">192, 10/11, d1=0.539, d2=0.466 g=3.265\n",
            ">193, 5/11, d1=0.426, d2=0.196 g=2.463\n",
            ">193, 10/11, d1=0.347, d2=0.391 g=2.580\n",
            ">194, 5/11, d1=0.264, d2=0.340 g=2.444\n",
            ">194, 10/11, d1=0.269, d2=0.533 g=3.491\n",
            ">195, 5/11, d1=0.306, d2=0.672 g=3.706\n",
            ">195, 10/11, d1=0.747, d2=0.118 g=2.901\n",
            ">196, 5/11, d1=0.377, d2=0.596 g=2.756\n",
            ">196, 10/11, d1=0.415, d2=0.322 g=2.350\n",
            ">197, 5/11, d1=0.236, d2=0.290 g=2.768\n",
            ">197, 10/11, d1=0.306, d2=0.431 g=3.228\n",
            ">198, 5/11, d1=0.323, d2=0.393 g=2.720\n",
            ">198, 10/11, d1=0.420, d2=0.204 g=3.154\n",
            ">199, 5/11, d1=0.356, d2=0.148 g=3.679\n",
            ">199, 10/11, d1=0.358, d2=0.142 g=2.949\n",
            ">200, 5/11, d1=0.419, d2=0.403 g=2.729\n",
            ">200, 10/11, d1=0.251, d2=0.464 g=2.764\n",
            ">Accuracy real: 77%, fake: 91%\n"
          ]
        },
        {
          "output_type": "stream",
          "name": "stderr",
          "text": [
            "WARNING:tensorflow:Compiled the loaded model, but the compiled metrics have yet to be built. `model.compile_metrics` will be empty until you train or evaluate the model.\n"
          ]
        },
        {
          "output_type": "stream",
          "name": "stdout",
          "text": [
            ">201, 5/11, d1=0.260, d2=0.357 g=2.562\n",
            ">201, 10/11, d1=0.468, d2=0.692 g=3.628\n",
            ">202, 5/11, d1=0.425, d2=0.258 g=2.713\n",
            ">202, 10/11, d1=0.433, d2=0.360 g=3.325\n",
            ">203, 5/11, d1=0.495, d2=0.546 g=2.882\n",
            ">203, 10/11, d1=0.426, d2=0.432 g=3.536\n",
            ">204, 5/11, d1=0.542, d2=0.368 g=2.862\n",
            ">204, 10/11, d1=0.401, d2=0.576 g=4.223\n",
            ">205, 5/11, d1=0.241, d2=0.597 g=3.180\n",
            ">205, 10/11, d1=0.337, d2=0.318 g=3.186\n",
            ">206, 5/11, d1=0.390, d2=0.413 g=3.999\n",
            ">206, 10/11, d1=0.547, d2=0.338 g=2.300\n",
            ">207, 5/11, d1=0.494, d2=0.639 g=2.732\n",
            ">207, 10/11, d1=0.290, d2=0.650 g=2.948\n",
            ">208, 5/11, d1=0.390, d2=0.490 g=3.143\n",
            ">208, 10/11, d1=0.450, d2=0.237 g=3.321\n",
            ">209, 5/11, d1=0.563, d2=0.206 g=2.737\n",
            ">209, 10/11, d1=0.394, d2=0.386 g=3.329\n",
            ">210, 5/11, d1=0.623, d2=0.161 g=3.273\n",
            ">210, 10/11, d1=0.423, d2=0.193 g=2.809\n",
            ">Accuracy real: 76%, fake: 97%\n"
          ]
        },
        {
          "output_type": "stream",
          "name": "stderr",
          "text": [
            "WARNING:tensorflow:Compiled the loaded model, but the compiled metrics have yet to be built. `model.compile_metrics` will be empty until you train or evaluate the model.\n"
          ]
        },
        {
          "output_type": "stream",
          "name": "stdout",
          "text": [
            ">211, 5/11, d1=0.578, d2=0.618 g=3.268\n",
            ">211, 10/11, d1=0.607, d2=0.494 g=2.539\n",
            ">212, 5/11, d1=0.417, d2=0.401 g=2.535\n",
            ">212, 10/11, d1=0.546, d2=0.489 g=2.393\n",
            ">213, 5/11, d1=0.461, d2=0.264 g=2.656\n",
            ">213, 10/11, d1=0.254, d2=0.300 g=2.539\n",
            ">214, 5/11, d1=0.556, d2=0.663 g=2.537\n",
            ">214, 10/11, d1=0.405, d2=0.358 g=2.584\n",
            ">215, 5/11, d1=0.390, d2=0.253 g=2.613\n",
            ">215, 10/11, d1=0.469, d2=0.304 g=2.529\n",
            ">216, 5/11, d1=0.481, d2=0.343 g=2.191\n",
            ">216, 10/11, d1=0.440, d2=0.353 g=2.664\n",
            ">217, 5/11, d1=0.859, d2=0.631 g=2.859\n",
            ">217, 10/11, d1=0.319, d2=0.412 g=3.343\n",
            ">218, 5/11, d1=0.143, d2=0.208 g=3.352\n",
            ">218, 10/11, d1=1.068, d2=0.155 g=2.701\n",
            ">219, 5/11, d1=0.277, d2=0.317 g=3.979\n",
            ">219, 10/11, d1=0.566, d2=0.638 g=3.123\n",
            ">220, 5/11, d1=0.581, d2=0.291 g=3.293\n",
            ">220, 10/11, d1=0.336, d2=0.523 g=4.096\n",
            ">Accuracy real: 79%, fake: 96%\n"
          ]
        },
        {
          "output_type": "stream",
          "name": "stderr",
          "text": [
            "WARNING:tensorflow:Compiled the loaded model, but the compiled metrics have yet to be built. `model.compile_metrics` will be empty until you train or evaluate the model.\n"
          ]
        },
        {
          "output_type": "stream",
          "name": "stdout",
          "text": [
            ">221, 5/11, d1=0.645, d2=0.323 g=3.166\n",
            ">221, 10/11, d1=0.460, d2=0.245 g=3.134\n",
            ">222, 5/11, d1=0.297, d2=0.415 g=3.549\n",
            ">222, 10/11, d1=0.525, d2=0.327 g=3.341\n",
            ">223, 5/11, d1=0.498, d2=0.123 g=2.855\n",
            ">223, 10/11, d1=0.944, d2=0.321 g=2.206\n",
            ">224, 5/11, d1=0.449, d2=0.550 g=2.988\n",
            ">224, 10/11, d1=0.237, d2=0.533 g=4.209\n",
            ">225, 5/11, d1=0.292, d2=0.367 g=3.265\n",
            ">225, 10/11, d1=0.504, d2=0.495 g=2.466\n",
            ">226, 5/11, d1=0.447, d2=0.337 g=2.511\n",
            ">226, 10/11, d1=0.511, d2=0.399 g=2.503\n",
            ">227, 5/11, d1=0.392, d2=0.307 g=2.657\n",
            ">227, 10/11, d1=0.839, d2=0.252 g=3.026\n",
            ">228, 5/11, d1=0.353, d2=0.461 g=2.748\n",
            ">228, 10/11, d1=0.347, d2=0.314 g=2.261\n",
            ">229, 5/11, d1=0.367, d2=0.410 g=2.920\n",
            ">229, 10/11, d1=0.343, d2=0.359 g=2.845\n",
            ">230, 5/11, d1=0.522, d2=0.438 g=2.862\n",
            ">230, 10/11, d1=0.202, d2=0.213 g=2.652\n",
            ">Accuracy real: 84%, fake: 100%\n"
          ]
        },
        {
          "output_type": "stream",
          "name": "stderr",
          "text": [
            "WARNING:tensorflow:Compiled the loaded model, but the compiled metrics have yet to be built. `model.compile_metrics` will be empty until you train or evaluate the model.\n"
          ]
        },
        {
          "output_type": "stream",
          "name": "stdout",
          "text": [
            ">231, 5/11, d1=0.601, d2=0.502 g=3.067\n",
            ">231, 10/11, d1=0.317, d2=0.136 g=3.170\n",
            ">232, 5/11, d1=0.589, d2=0.587 g=3.649\n",
            ">232, 10/11, d1=0.366, d2=0.144 g=3.014\n",
            ">233, 5/11, d1=0.421, d2=0.346 g=4.527\n",
            ">233, 10/11, d1=0.275, d2=0.168 g=3.374\n",
            ">234, 5/11, d1=0.286, d2=0.226 g=2.909\n",
            ">234, 10/11, d1=0.522, d2=0.384 g=2.547\n",
            ">235, 5/11, d1=0.318, d2=0.352 g=2.516\n",
            ">235, 10/11, d1=0.647, d2=0.289 g=3.156\n",
            ">236, 5/11, d1=0.271, d2=0.315 g=3.399\n",
            ">236, 10/11, d1=0.650, d2=0.310 g=4.069\n",
            ">237, 5/11, d1=0.095, d2=0.717 g=4.731\n",
            ">237, 10/11, d1=0.638, d2=0.176 g=3.084\n",
            ">238, 5/11, d1=0.527, d2=0.422 g=2.750\n",
            ">238, 10/11, d1=0.377, d2=0.277 g=2.336\n",
            ">239, 5/11, d1=0.935, d2=0.095 g=2.924\n",
            ">239, 10/11, d1=0.245, d2=0.507 g=2.751\n",
            ">240, 5/11, d1=0.322, d2=0.235 g=2.802\n",
            ">240, 10/11, d1=0.251, d2=0.288 g=2.621\n",
            ">Accuracy real: 85%, fake: 96%\n"
          ]
        },
        {
          "output_type": "stream",
          "name": "stderr",
          "text": [
            "WARNING:tensorflow:Compiled the loaded model, but the compiled metrics have yet to be built. `model.compile_metrics` will be empty until you train or evaluate the model.\n"
          ]
        },
        {
          "output_type": "stream",
          "name": "stdout",
          "text": [
            ">241, 5/11, d1=0.140, d2=0.372 g=2.905\n",
            ">241, 10/11, d1=0.541, d2=0.192 g=3.524\n",
            ">242, 5/11, d1=0.371, d2=0.215 g=3.196\n",
            ">242, 10/11, d1=0.805, d2=0.486 g=3.504\n",
            ">243, 5/11, d1=0.653, d2=0.332 g=3.312\n",
            ">243, 10/11, d1=0.250, d2=0.277 g=3.177\n",
            ">244, 5/11, d1=0.388, d2=0.200 g=4.242\n",
            ">244, 10/11, d1=0.414, d2=0.343 g=3.573\n",
            ">245, 5/11, d1=0.214, d2=0.900 g=3.962\n",
            ">245, 10/11, d1=0.447, d2=0.194 g=3.784\n",
            ">246, 5/11, d1=0.161, d2=0.748 g=4.180\n",
            ">246, 10/11, d1=0.129, d2=0.242 g=3.090\n",
            ">247, 5/11, d1=0.622, d2=0.708 g=2.755\n",
            ">247, 10/11, d1=0.517, d2=0.314 g=3.060\n",
            ">248, 5/11, d1=0.690, d2=0.100 g=3.138\n",
            ">248, 10/11, d1=0.379, d2=0.334 g=3.067\n",
            ">249, 5/11, d1=0.423, d2=0.359 g=2.853\n",
            ">249, 10/11, d1=0.370, d2=0.567 g=2.533\n",
            ">250, 5/11, d1=0.159, d2=0.264 g=3.456\n",
            ">250, 10/11, d1=0.183, d2=0.300 g=2.956\n",
            ">Accuracy real: 91%, fake: 94%\n"
          ]
        },
        {
          "output_type": "stream",
          "name": "stderr",
          "text": [
            "WARNING:tensorflow:Compiled the loaded model, but the compiled metrics have yet to be built. `model.compile_metrics` will be empty until you train or evaluate the model.\n"
          ]
        },
        {
          "output_type": "stream",
          "name": "stdout",
          "text": [
            ">251, 5/11, d1=0.325, d2=0.188 g=2.627\n",
            ">251, 10/11, d1=0.366, d2=0.304 g=2.587\n",
            ">252, 5/11, d1=0.869, d2=0.038 g=3.574\n",
            ">252, 10/11, d1=0.227, d2=0.520 g=2.967\n",
            ">253, 5/11, d1=0.198, d2=0.227 g=3.097\n",
            ">253, 10/11, d1=0.329, d2=0.659 g=4.812\n",
            ">254, 5/11, d1=0.499, d2=0.427 g=3.841\n",
            ">254, 10/11, d1=0.505, d2=0.226 g=2.585\n",
            ">255, 5/11, d1=0.234, d2=0.337 g=3.022\n",
            ">255, 10/11, d1=0.268, d2=0.172 g=3.425\n",
            ">256, 5/11, d1=0.200, d2=0.188 g=3.248\n",
            ">256, 10/11, d1=0.449, d2=0.406 g=3.867\n",
            ">257, 5/11, d1=0.612, d2=0.426 g=2.435\n",
            ">257, 10/11, d1=0.384, d2=0.346 g=2.632\n",
            ">258, 5/11, d1=0.506, d2=0.365 g=2.906\n",
            ">258, 10/11, d1=0.258, d2=0.332 g=2.751\n",
            ">259, 5/11, d1=0.462, d2=0.224 g=3.026\n",
            ">259, 10/11, d1=0.448, d2=0.385 g=2.898\n",
            ">260, 5/11, d1=0.355, d2=0.422 g=2.507\n",
            ">260, 10/11, d1=0.204, d2=0.213 g=3.270\n",
            ">Accuracy real: 77%, fake: 99%\n"
          ]
        },
        {
          "output_type": "stream",
          "name": "stderr",
          "text": [
            "WARNING:tensorflow:Compiled the loaded model, but the compiled metrics have yet to be built. `model.compile_metrics` will be empty until you train or evaluate the model.\n"
          ]
        },
        {
          "output_type": "stream",
          "name": "stdout",
          "text": [
            ">261, 5/11, d1=0.349, d2=0.437 g=3.404\n",
            ">261, 10/11, d1=0.308, d2=0.310 g=2.563\n",
            ">262, 5/11, d1=0.424, d2=0.782 g=3.008\n",
            ">262, 10/11, d1=0.357, d2=0.260 g=2.572\n",
            ">263, 5/11, d1=0.394, d2=0.258 g=2.569\n",
            ">263, 10/11, d1=0.438, d2=0.351 g=2.777\n",
            ">264, 5/11, d1=0.415, d2=0.520 g=3.144\n",
            ">264, 10/11, d1=0.257, d2=0.325 g=2.539\n",
            ">265, 5/11, d1=0.232, d2=0.204 g=3.569\n",
            ">265, 10/11, d1=0.310, d2=0.164 g=2.920\n",
            ">266, 5/11, d1=0.306, d2=0.425 g=4.340\n",
            ">266, 10/11, d1=0.500, d2=0.210 g=3.793\n",
            ">267, 5/11, d1=0.493, d2=0.196 g=2.766\n",
            ">267, 10/11, d1=0.651, d2=0.243 g=3.531\n",
            ">268, 5/11, d1=0.270, d2=0.317 g=2.882\n",
            ">268, 10/11, d1=0.531, d2=0.414 g=2.473\n",
            ">269, 5/11, d1=0.644, d2=0.588 g=4.255\n",
            ">269, 10/11, d1=0.346, d2=0.519 g=2.764\n",
            ">270, 5/11, d1=0.304, d2=0.321 g=3.139\n",
            ">270, 10/11, d1=0.913, d2=0.332 g=2.696\n",
            ">Accuracy real: 71%, fake: 94%\n"
          ]
        },
        {
          "output_type": "stream",
          "name": "stderr",
          "text": [
            "WARNING:tensorflow:Compiled the loaded model, but the compiled metrics have yet to be built. `model.compile_metrics` will be empty until you train or evaluate the model.\n"
          ]
        },
        {
          "output_type": "stream",
          "name": "stdout",
          "text": [
            ">271, 5/11, d1=0.282, d2=0.323 g=2.819\n",
            ">271, 10/11, d1=0.424, d2=0.346 g=4.096\n",
            ">272, 5/11, d1=0.365, d2=0.100 g=3.040\n",
            ">272, 10/11, d1=0.280, d2=0.116 g=2.994\n",
            ">273, 5/11, d1=0.415, d2=0.516 g=3.405\n",
            ">273, 10/11, d1=0.531, d2=0.169 g=2.756\n",
            ">274, 5/11, d1=0.621, d2=0.429 g=4.151\n",
            ">274, 10/11, d1=0.215, d2=0.353 g=2.865\n",
            ">275, 5/11, d1=0.359, d2=0.400 g=2.534\n",
            ">275, 10/11, d1=0.483, d2=0.419 g=3.143\n",
            ">276, 5/11, d1=0.549, d2=1.112 g=3.295\n",
            ">276, 10/11, d1=0.383, d2=0.361 g=2.868\n",
            ">277, 5/11, d1=0.209, d2=0.212 g=2.739\n",
            ">277, 10/11, d1=0.327, d2=0.354 g=3.036\n",
            ">278, 5/11, d1=0.252, d2=0.238 g=3.093\n",
            ">278, 10/11, d1=0.477, d2=0.280 g=2.811\n",
            ">279, 5/11, d1=0.262, d2=0.197 g=3.129\n",
            ">279, 10/11, d1=0.329, d2=0.292 g=3.378\n",
            ">280, 5/11, d1=0.785, d2=0.146 g=3.076\n",
            ">280, 10/11, d1=0.658, d2=0.189 g=2.942\n",
            ">Accuracy real: 63%, fake: 97%\n"
          ]
        },
        {
          "output_type": "stream",
          "name": "stderr",
          "text": [
            "WARNING:tensorflow:Compiled the loaded model, but the compiled metrics have yet to be built. `model.compile_metrics` will be empty until you train or evaluate the model.\n"
          ]
        },
        {
          "output_type": "stream",
          "name": "stdout",
          "text": [
            ">281, 5/11, d1=0.486, d2=0.451 g=4.098\n",
            ">281, 10/11, d1=0.459, d2=0.114 g=3.652\n",
            ">282, 5/11, d1=0.368, d2=0.480 g=2.923\n",
            ">282, 10/11, d1=0.465, d2=0.402 g=2.842\n",
            ">283, 5/11, d1=0.547, d2=0.322 g=3.009\n",
            ">283, 10/11, d1=0.466, d2=0.219 g=3.380\n",
            ">284, 5/11, d1=0.368, d2=0.297 g=3.754\n",
            ">284, 10/11, d1=0.143, d2=0.294 g=3.440\n",
            ">285, 5/11, d1=0.359, d2=0.318 g=3.645\n",
            ">285, 10/11, d1=0.323, d2=0.374 g=3.536\n",
            ">286, 5/11, d1=0.228, d2=0.197 g=2.446\n",
            ">286, 10/11, d1=0.423, d2=0.454 g=3.122\n",
            ">287, 5/11, d1=0.507, d2=0.210 g=2.963\n",
            ">287, 10/11, d1=0.437, d2=0.400 g=2.935\n",
            ">288, 5/11, d1=0.455, d2=0.354 g=2.812\n",
            ">288, 10/11, d1=0.172, d2=0.265 g=3.323\n",
            ">289, 5/11, d1=0.463, d2=0.662 g=3.537\n",
            ">289, 10/11, d1=0.216, d2=0.667 g=4.162\n",
            ">290, 5/11, d1=0.284, d2=0.308 g=2.617\n",
            ">290, 10/11, d1=0.452, d2=0.261 g=2.926\n",
            ">Accuracy real: 73%, fake: 97%\n"
          ]
        },
        {
          "output_type": "stream",
          "name": "stderr",
          "text": [
            "WARNING:tensorflow:Compiled the loaded model, but the compiled metrics have yet to be built. `model.compile_metrics` will be empty until you train or evaluate the model.\n"
          ]
        },
        {
          "output_type": "stream",
          "name": "stdout",
          "text": [
            ">291, 5/11, d1=0.391, d2=0.386 g=2.813\n",
            ">291, 10/11, d1=0.328, d2=0.253 g=2.664\n",
            ">292, 5/11, d1=0.358, d2=0.256 g=2.617\n",
            ">292, 10/11, d1=0.448, d2=0.523 g=2.699\n",
            ">293, 5/11, d1=0.298, d2=0.371 g=2.709\n",
            ">293, 10/11, d1=0.355, d2=0.377 g=2.886\n",
            ">294, 5/11, d1=0.588, d2=0.497 g=2.647\n",
            ">294, 10/11, d1=0.588, d2=0.338 g=2.604\n",
            ">295, 5/11, d1=0.292, d2=0.306 g=2.770\n",
            ">295, 10/11, d1=0.412, d2=0.409 g=2.907\n",
            ">296, 5/11, d1=0.238, d2=0.464 g=3.321\n",
            ">296, 10/11, d1=0.420, d2=0.917 g=3.657\n",
            ">297, 5/11, d1=0.476, d2=0.365 g=3.431\n",
            ">297, 10/11, d1=0.514, d2=0.196 g=3.341\n",
            ">298, 5/11, d1=0.425, d2=0.119 g=3.432\n",
            ">298, 10/11, d1=0.392, d2=0.351 g=2.429\n",
            ">299, 5/11, d1=0.698, d2=0.148 g=3.260\n",
            ">299, 10/11, d1=0.305, d2=0.634 g=3.502\n",
            ">300, 5/11, d1=0.651, d2=0.316 g=3.079\n",
            ">300, 10/11, d1=0.661, d2=0.390 g=2.773\n",
            ">Accuracy real: 83%, fake: 87%\n"
          ]
        },
        {
          "output_type": "stream",
          "name": "stderr",
          "text": [
            "WARNING:tensorflow:Compiled the loaded model, but the compiled metrics have yet to be built. `model.compile_metrics` will be empty until you train or evaluate the model.\n"
          ]
        }
      ],
      "source": [
        "# size of the latent space\n",
        "latent_dim = 100\n",
        "# create the discriminator\n",
        "d_model = define_discriminator()\n",
        "# create the generator\n",
        "g_model = define_generator(latent_dim)\n",
        "# create the gan\n",
        "gan_model = define_gan(g_model, d_model)\n",
        "# load image data\n",
        "image_path = \"/content/gdrive/My Drive/cars_tanks/\"\n",
        "resizedim = 128\n",
        "directorylevels = 2\n",
        "dataset = load_custom_image_set(image_path,resizedim,directorylevels)\n",
        "# train model\n",
        "train(g_model, d_model, gan_model, dataset, latent_dim)"
      ]
    },
    {
      "cell_type": "code",
      "execution_count": 9,
      "metadata": {
        "id": "uTMUKlnMFqV9",
        "colab": {
          "base_uri": "https://localhost:8080/",
          "height": 388
        },
        "outputId": "36676519-13d7-4d41-8fd6-7eed0d116792"
      },
      "outputs": [
        {
          "output_type": "stream",
          "name": "stdout",
          "text": [
            "4/4 [==============================] - 3s 315ms/step\n"
          ]
        },
        {
          "output_type": "error",
          "ename": "IndexError",
          "evalue": "ignored",
          "traceback": [
            "\u001b[0;31m---------------------------------------------------------------------------\u001b[0m",
            "\u001b[0;31mIndexError\u001b[0m                                Traceback (most recent call last)",
            "\u001b[0;32m<ipython-input-9-91664bcac0ec>\u001b[0m in \u001b[0;36m<module>\u001b[0;34m\u001b[0m\n\u001b[1;32m     28\u001b[0m \u001b[0mX\u001b[0m \u001b[0;34m=\u001b[0m \u001b[0;34m(\u001b[0m\u001b[0mX\u001b[0m \u001b[0;34m+\u001b[0m \u001b[0;36m1\u001b[0m\u001b[0;34m)\u001b[0m \u001b[0;34m/\u001b[0m \u001b[0;36m2.0\u001b[0m\u001b[0;34m\u001b[0m\u001b[0;34m\u001b[0m\u001b[0m\n\u001b[1;32m     29\u001b[0m \u001b[0;31m# plot the result\u001b[0m\u001b[0;34m\u001b[0m\u001b[0;34m\u001b[0m\u001b[0m\n\u001b[0;32m---> 30\u001b[0;31m \u001b[0msave_plot\u001b[0m\u001b[0;34m(\u001b[0m\u001b[0mX\u001b[0m\u001b[0;34m,\u001b[0m \u001b[0;36m10\u001b[0m\u001b[0;34m)\u001b[0m\u001b[0;34m\u001b[0m\u001b[0;34m\u001b[0m\u001b[0m\n\u001b[0m",
            "\u001b[0;32m<ipython-input-9-91664bcac0ec>\u001b[0m in \u001b[0;36msave_plot\u001b[0;34m(examples, n)\u001b[0m\n\u001b[1;32m     16\u001b[0m                 \u001b[0mpyplot\u001b[0m\u001b[0;34m.\u001b[0m\u001b[0maxis\u001b[0m\u001b[0;34m(\u001b[0m\u001b[0;34m'off'\u001b[0m\u001b[0;34m)\u001b[0m\u001b[0;34m\u001b[0m\u001b[0;34m\u001b[0m\u001b[0m\n\u001b[1;32m     17\u001b[0m                 \u001b[0;31m# plot raw pixel data\u001b[0m\u001b[0;34m\u001b[0m\u001b[0;34m\u001b[0m\u001b[0m\n\u001b[0;32m---> 18\u001b[0;31m                 \u001b[0mpyplot\u001b[0m\u001b[0;34m.\u001b[0m\u001b[0mimshow\u001b[0m\u001b[0;34m(\u001b[0m\u001b[0mexamples\u001b[0m\u001b[0;34m[\u001b[0m\u001b[0mi\u001b[0m\u001b[0;34m,\u001b[0m \u001b[0;34m:\u001b[0m\u001b[0;34m,\u001b[0m \u001b[0;34m:\u001b[0m\u001b[0;34m]\u001b[0m\u001b[0;34m)\u001b[0m\u001b[0;34m\u001b[0m\u001b[0;34m\u001b[0m\u001b[0m\n\u001b[0m\u001b[1;32m     19\u001b[0m         \u001b[0mpyplot\u001b[0m\u001b[0;34m.\u001b[0m\u001b[0mshow\u001b[0m\u001b[0;34m(\u001b[0m\u001b[0;34m)\u001b[0m\u001b[0;34m\u001b[0m\u001b[0;34m\u001b[0m\u001b[0m\n\u001b[1;32m     20\u001b[0m \u001b[0;34m\u001b[0m\u001b[0m\n",
            "\u001b[0;31mIndexError\u001b[0m: too many indices for array: array is 2-dimensional, but 3 were indexed"
          ]
        },
        {
          "output_type": "display_data",
          "data": {
            "text/plain": [
              "<Figure size 432x288 with 1 Axes>"
            ],
            "image/png": "[encoded data removed]"
          },
          "metadata": {
            "needs_background": "light"
          }
        }
      ],
      "source": [
        "# generate points in latent space as input for the generator\n",
        "def generate_latent_points(latent_dim, n_samples):\n",
        "\t# generate points in the latent space\n",
        "\tx_input = randn(latent_dim * n_samples)\n",
        "\t# reshape into a batch of inputs for the network\n",
        "\tx_input = x_input.reshape(n_samples, latent_dim)\n",
        "\treturn x_input\n",
        "\n",
        "# create and save a plot of generated images\n",
        "def save_plot(examples, n):\n",
        "\t# plot images\n",
        "\tfor i in range(n * n):\n",
        "\t\t# define subplot\n",
        "\t\tpyplot.subplot(n, n, 1 + i)\n",
        "\t\t# turn off axis\n",
        "\t\tpyplot.axis('off')\n",
        "\t\t# plot raw pixel data\n",
        "\t\tpyplot.imshow(examples[i, :, :])\n",
        "\tpyplot.show()\n",
        "\n",
        "# load model\n",
        "model = gan_model\n",
        "# generate images\n",
        "latent_points = generate_latent_points(100, 100)\n",
        "# generate images\n",
        "X = model.predict(latent_points)\n",
        "# scale from [-1,1] to [0,1]\n",
        "X = (X + 1) / 2.0\n",
        "# plot the result\n",
        "save_plot(X, 10)"
      ]
    },
    {
      "cell_type": "markdown",
      "metadata": {
        "id": "SRCL4Ju3wjkY"
      },
      "source": [
        "# References\n",
        "\n",
        "Brownlee, Jason. (2019). Generative Adversarial Networks with Python. Ebook. Machine Learning Mastery. \n",
        "\n",
        "Das Shuvo, Falguni. (2020). Repeatedly calling model.predict(...) results in memory leak. GitHub. Retrieved 3/15/2023 from https://github.com/keras-team/keras/issues/13118"
      ]
    }
  ],
  "metadata": {
    "accelerator": "GPU",
    "colab": {
      "provenance": [],
      "authorship_tag": "ABX9TyM5htMBsZpi6wWn/e9kD0O3",
      "include_colab_link": true
    },
    "gpuClass": "standard",
    "kernelspec": {
      "display_name": "Python 3",
      "name": "python3"
    },
    "language_info": {
      "name": "python"
    }
  },
  "nbformat": 4,
  "nbformat_minor": 0
}