{
  "cells": [
    {
      "cell_type": "markdown",
      "metadata": {
        "id": "view-in-github",
        "colab_type": "text"
      },
      "source": [
        "<a href=\"https://colab.research.google.com/github/AdamPeetz/PlaneGAN/blob/main/MSDS696_GAN_V3.ipynb\" target=\"_parent\"><img src=\"https://colab.research.google.com/assets/colab-badge.svg\" alt=\"Open In Colab\"/></a>"
      ]
    },
    {
      "cell_type": "code",
      "execution_count": 1,
      "metadata": {
        "colab": {
          "base_uri": "https://localhost:8080/"
        },
        "id": "lip5etIQEPQN",
        "outputId": "19637368-6f37-41ff-b9e8-28756d781168"
      },
      "outputs": [
        {
          "output_type": "stream",
          "name": "stdout",
          "text": [
            "Mounted at /content/gdrive\n"
          ]
        }
      ],
      "source": [
        "# example of a dcgan on cifar10\n",
        "from numpy import zeros\n",
        "from numpy import ones\n",
        "from numpy.random import randn\n",
        "from numpy.random import randint\n",
        "from keras.datasets.cifar10 import load_data\n",
        "from keras.optimizers import Adam\n",
        "from keras.models import Sequential\n",
        "from keras.layers import Dense\n",
        "from keras.layers import Reshape\n",
        "from keras.layers import Flatten\n",
        "from keras.layers import Conv2D\n",
        "from keras.layers import Conv2DTranspose\n",
        "from keras.layers import LeakyReLU\n",
        "from keras.layers import Dropout\n",
        "from matplotlib import pyplot\n",
        "import tensorflow as tf\n",
        "import cv2\n",
        "import numpy as np\n",
        "import pathlib\n",
        "\n",
        "import os, shutil \n",
        "from google.colab import drive \n",
        "drive.mount('/content/gdrive')"
      ]
    },
    {
      "cell_type": "code",
      "execution_count": 2,
      "metadata": {
        "id": "JrTxmPpaEnsx"
      },
      "outputs": [],
      "source": [
        "# define the standalone discriminator model\n",
        "def define_discriminator(in_shape=(32,32,3)):\n",
        "\tmodel = Sequential()\n",
        "\t# normal\n",
        "\tmodel.add(Conv2D(64, (3,3), padding='same', input_shape=in_shape))\n",
        "\tmodel.add(LeakyReLU(alpha=0.2))\n",
        "\t# downsample to 16x16\n",
        "\tmodel.add(Conv2D(128, (3,3), strides=(2,2), padding='same'))\n",
        "\tmodel.add(LeakyReLU(alpha=0.2))\n",
        "\t# downsample to 8x8\n",
        "\tmodel.add(Conv2D(128, (3,3), strides=(2,2), padding='same'))\n",
        "\tmodel.add(LeakyReLU(alpha=0.2))\n",
        "\t# downsample to 4x4\n",
        "\tmodel.add(Conv2D(256, (3,3), strides=(2,2), padding='same'))\n",
        "\tmodel.add(LeakyReLU(alpha=0.2))\n",
        "\t# classifier\n",
        "\tmodel.add(Flatten())\n",
        "\tmodel.add(Dropout(0.4))\n",
        "\tmodel.add(Dense(1, activation='sigmoid'))\n",
        "\t# compile model\n",
        "\topt = Adam(lr=0.0002, beta_1=0.5)\n",
        "\tmodel.compile(loss='binary_crossentropy', optimizer=opt, metrics=['accuracy'])\n",
        "\treturn model\n"
      ]
    },
    {
      "cell_type": "code",
      "execution_count": 3,
      "metadata": {
        "id": "GDtG-SO4En3V"
      },
      "outputs": [],
      "source": [
        "# define the standalone generator model\n",
        "def define_generator(latent_dim):\n",
        "\tmodel = Sequential()\n",
        "\t# foundation for 4x4 image\n",
        "\tn_nodes = 256 * 4 * 4\n",
        "\tmodel.add(Dense(n_nodes, input_dim=latent_dim))\n",
        "\tmodel.add(LeakyReLU(alpha=0.2))\n",
        "\tmodel.add(Reshape((4, 4, 256)))\n",
        "\t# upsample to 8x8\n",
        "\tmodel.add(Conv2DTranspose(256, (3,3), strides=(2,2), padding='same'))\n",
        "\tmodel.add(LeakyReLU(alpha=0.2))\n",
        "\t# upsample to 16x16\n",
        "\tmodel.add(Conv2DTranspose(256, (3,3), strides=(2,2), padding='same'))\n",
        "\tmodel.add(LeakyReLU(alpha=0.2))\n",
        "\t# upsample to 32x32\n",
        "\tmodel.add(Conv2DTranspose(256, (3,3), strides=(2,2), padding='same'))\n",
        "\tmodel.add(LeakyReLU(alpha=0.2))\n",
        "\t# output layer\n",
        "\tmodel.add(Conv2D(3, (3,3), activation='tanh', padding='same'))\n",
        "\treturn model"
      ]
    },
    {
      "cell_type": "code",
      "execution_count": 4,
      "metadata": {
        "id": "NDgVFRylEn-t"
      },
      "outputs": [],
      "source": [
        "# define the combined generator and discriminator model, for updating the generator\n",
        "def define_gan(g_model, d_model):\n",
        "\t# make weights in the discriminator not trainable\n",
        "\td_model.trainable = False\n",
        "\t# connect them\n",
        "\tmodel = Sequential()\n",
        "\t# add generator\n",
        "\tmodel.add(g_model)\n",
        "\t# add the discriminator\n",
        "\tmodel.add(d_model)\n",
        "\t# compile model\n",
        "\topt = Adam(lr=0.0002, beta_1=0.5)\n",
        "\tmodel.compile(loss='binary_crossentropy', optimizer=opt)\n",
        "\treturn model"
      ]
    },
    {
      "cell_type": "code",
      "execution_count": 5,
      "metadata": {
        "id": "R2tPw_SdEx7C"
      },
      "outputs": [],
      "source": [
        "# load and prepare cifar10 training images\n",
        "def load_real_samples():\n",
        "\t# load cifar10 dataset\n",
        "\t(trainX, _), (_, _) = load_data()\n",
        "\t# convert from unsigned ints to floats\n",
        "\tX = trainX.astype('float32')\n",
        "\t# scale from [0,255] to [-1,1]\n",
        "\tX = (X - 127.5) / 127.5\n",
        "\treturn X\n",
        "\n",
        "#load and prepare custom image dataset\n",
        "def create_real_img_dataset(image_path, resize_dim):\n",
        "\t\tdataset = []\n",
        "\t\tfor file in tqdm(os.listdir(image_path)):\n",
        "\t\t\t\timage = cv2.imread(os.path.join(image_path,file))\n",
        "\t\t\t\tX = image.astype('float32')\n",
        "\t\t\t\tX = X[:, :, [2, 1, 0]]\n",
        "\t\t\t\tX = (X - 127.5) / 127.5\n",
        "\t\t\t\tX = tf.image.resize(X, [resize_dim, resize_dim])\n",
        "\t\t\t\tdataset.append(X)\n",
        "\t\tdataset = np.array(dataset)\n",
        "\t\treturn dataset\n",
        "\n",
        "#load a custom image dataset with 1 level of directory\n",
        "# tensorflow documentation\n",
        "def load_custom_image_set(dataroot,resizedim,directorylevels):\n",
        "    #image parse function\n",
        "    def parse_image(filename):\n",
        "        parts = tf.strings.split(filename, os.sep)\n",
        "        label = parts[-2]\n",
        "        image = tf.io.read_file(filename)\n",
        "        image = tf.io.decode_jpeg(image)\n",
        "        image = tf.image.convert_image_dtype(image, tf.float32)\n",
        "        image = tf.image.resize(image, [resizedim,resizedim])\n",
        "        image = (image * 2) -1\n",
        "        return image, label\n",
        "    \n",
        "    data_root = pathlib.Path(dataroot)\n",
        "    if directorylevels == 1:\n",
        "      list_ds = tf.data.Dataset.list_files(str(data_root/'*/*'))\n",
        "    if directorylevels == 2:\n",
        "      list_ds = tf.data.Dataset.list_files(str(data_root/'*/*/*'))\n",
        "    images_ds = list_ds.map(parse_image)\n",
        "    #https://stackoverflow.com/questions/70535683/extract-data-from-tensorflow-dataset-e-g-to-numpy\n",
        "    images = np.asarray(list(images_ds.map(lambda x, y: x)))\n",
        "    return images\n",
        "\n",
        "# select real samples\n",
        "def generate_real_samples(dataset, n_samples):\n",
        "\t# choose random instances\n",
        "\tix = randint(0, dataset.shape[0], n_samples)\n",
        "\t# retrieve selected images\n",
        "\tX = dataset[ix]\n",
        "\t# generate 'real' class labels (1)\n",
        "\ty = ones((n_samples, 1))\n",
        "\treturn X, y\n",
        "\n",
        "# generate points in latent space as input for the generator\n",
        "def generate_latent_points(latent_dim, n_samples):\n",
        "\t# generate points in the latent space\n",
        "\tx_input = randn(latent_dim * n_samples)\n",
        "\t# reshape into a batch of inputs for the network\n",
        "\tx_input = x_input.reshape(n_samples, latent_dim)\n",
        "\treturn x_input\n",
        "\n",
        "# modified with suggestion from Das Shuvo (2020)\n",
        "# use the generator to generate n fake examples, with class labels\n",
        "def generate_fake_samples(g_model, latent_dim, n_samples):\n",
        "\t# generate points in latent space\n",
        "\tx_input = generate_latent_points(latent_dim, n_samples)\n",
        "\t# predict outputs\n",
        "\tinput_tensor = tf.convert_to_tensor(x_input)\n",
        "\tX = g_model(input_tensor)\n",
        "\tX = X.numpy()\n",
        "\t# create 'fake' class labels (0)\n",
        "\ty = zeros((n_samples, 1))\n",
        "\treturn X, y"
      ]
    },
    {
      "cell_type": "code",
      "execution_count": 6,
      "metadata": {
        "id": "I2MWrLh8EyBL"
      },
      "outputs": [],
      "source": [
        "# create and save a plot of generated images\n",
        "def save_plot(examples, epoch, n=7):\n",
        "\t# scale from [-1,1] to [0,1]\n",
        "\texamples = (examples + 1) / 2.0\n",
        "#\texample = (examples + 1) * 255\n",
        "\t# plot images\n",
        "\tfor i in range(n * n):\n",
        "\t\t# define subplot\n",
        "\t\tpyplot.subplot(n, n, 1 + i)\n",
        "\t\t# turn off axis\n",
        "\t\tpyplot.axis('off')\n",
        "\t\t# plot raw pixel data\n",
        "\t\tpyplot.imshow(examples[i])\n",
        "\t# save plot to file\n",
        "\tfilename = '/content/gdrive/My Drive/planegan/sample_output/generated_plot_e%03d.png' % (epoch+1)\n",
        "\tpyplot.savefig(filename)\n",
        "\tpyplot.close()\n",
        " \n",
        "# create a line plot of loss for the gan and save to file\n",
        "def plot_history(d1_hist, d2_hist, g_hist, a1_hist, a2_hist):\n",
        "\t# plot loss\n",
        "\tpyplot.subplot(2, 1, 1)\n",
        "\tpyplot.plot(d1_hist, label='d-real')\n",
        "\tpyplot.plot(d2_hist, label='d-fake')\n",
        "\tpyplot.plot(g_hist, label='gen')\n",
        "\tpyplot.legend()\n",
        "\t# plot discriminator accuracy\n",
        "\tpyplot.subplot(2, 1, 2)\n",
        "\tpyplot.plot(a1_hist, label='acc-real')\n",
        "\tpyplot.plot(a2_hist, label='acc-fake')\n",
        "\tpyplot.legend()\n",
        "\t# save plot to file\n",
        "\tpyplot.savefig('/content/gdrive/My Drive/planegan/saved_models/plot_line_plot_loss.png')\n",
        "\tpyplot.close()\n"
      ]
    },
    {
      "cell_type": "code",
      "execution_count": 8,
      "metadata": {
        "id": "RrnRfx2tFKoi"
      },
      "outputs": [],
      "source": [
        "# evaluate the discriminator, plot generated images, save generator model\n",
        "def summarize_performance(epoch, g_model, d_model, dataset, latent_dim, n_samples=150):\n",
        "\t# prepare real samples\n",
        "\tX_real, y_real = generate_real_samples(dataset, n_samples)\n",
        "\t# evaluate discriminator on real examples\n",
        "\t_, acc_real = d_model.evaluate(X_real, y_real, verbose=0)\n",
        "\t# prepare fake examples\n",
        "\tx_fake, y_fake = generate_fake_samples(g_model, latent_dim, n_samples)\n",
        "\t# evaluate discriminator on fake examples\n",
        "\t_, acc_fake = d_model.evaluate(x_fake, y_fake, verbose=0)\n",
        "\t# summarize discriminator performance\n",
        "\tprint('>Accuracy real: %.0f%%, fake: %.0f%%' % (acc_real*100, acc_fake*100))\n",
        "\t# save plot\n",
        "\tsave_plot(x_fake, epoch)\n",
        "\t# save the generator model tile file\n",
        "\tfilename = '/content/gdrive/My Drive/planegan/saved_models/generator_model_%03d.h5' % (epoch+1)\n",
        "\tg_model.save(filename)\n",
        "\n",
        "# train the generator and discriminator\n",
        "def train(g_model, d_model, gan_model, dataset, latent_dim, n_epochs=300, n_batch=128):\n",
        "\tbat_per_epo = int(dataset.shape[0] / n_batch)\n",
        "\t# define half batches for training\n",
        "\thalf_batch = int(n_batch / 2)\n",
        "  # prepare lists for storing stats each iteration\n",
        "\td1_hist, d2_hist, g_hist, a1_hist, a2_hist = list(), list(), list(), list(), list()\n",
        "\t# manually enumerate epochs\n",
        "\tfor i in range(n_epochs):\n",
        "\t\t# enumerate batches over the training set\n",
        "\t\tfor j in range(bat_per_epo):\n",
        "\t\t\t# get randomly selected 'real' samples\n",
        "\t\t\tX_real, y_real = generate_real_samples(dataset, half_batch)\n",
        "\t\t\t# update discriminator model weights\n",
        "\t\t\td_loss1, d_acc1 = d_model.train_on_batch(X_real, y_real)\n",
        "\t\t\t# generate 'fake' examples\n",
        "\t\t\tX_fake, y_fake = generate_fake_samples(g_model, latent_dim, half_batch)\n",
        "\t\t\t# update discriminator model weights\n",
        "\t\t\td_loss2, d_acc2 = d_model.train_on_batch(X_fake, y_fake)\n",
        "\t\t\t# prepare points in latent space as input for the generator\n",
        "\t\t\tX_gan = generate_latent_points(latent_dim, n_batch)\n",
        "\t\t\t# create inverted labels for the fake samples\n",
        "\t\t\ty_gan = ones((n_batch, 1))\n",
        "\t\t\t# update the generator via the discriminator's error\n",
        "\t\t\tg_loss = gan_model.train_on_batch(X_gan, y_gan)\n",
        "\t\t# summarize loss\n",
        "\t\t\tif (j+1) % 5 == 0:\n",
        "\t\t\t\tprint('>%d, %d/%d, d1=%.3f, d2=%.3f g=%.3f' % (i+1, j+1, bat_per_epo, d_loss1, d_loss2, g_loss))\n",
        "\t\t# evaluate the model performance, sometimes\n",
        "\t\tif (i+1) % 10 == 0:\n",
        "\t\t\tsummarize_performance(i, g_model, d_model, dataset, latent_dim)\n",
        "\t\t# record training metrics\n",
        "\t\tif (i+1) % 2 == 0:\n",
        "\t\t\td1_hist.append(d_loss1)\n",
        "\t\t\td2_hist.append(d_loss2)\n",
        "\t\t\tg_hist.append(g_loss)\n",
        "\t\t\ta1_hist.append(d_acc1)\n",
        "\t\t\ta2_hist.append(d_acc2)\n",
        "\t# save plot to directory\n",
        "\tplot_history(d1_hist, d2_hist, g_hist, a1_hist, a2_hist)\n"
      ]
    },
    {
      "cell_type": "code",
      "execution_count": 11,
      "metadata": {
        "id": "LuVfdG7CFKtv",
        "colab": {
          "base_uri": "https://localhost:8080/"
        },
        "outputId": "64da386f-a0b7-403e-cb3b-b62dc012f5d9"
      },
      "outputs": [
        {
          "output_type": "stream",
          "name": "stdout",
          "text": [
            ">1, 5/11, d1=0.334, d2=0.773 g=0.632\n",
            ">1, 10/11, d1=0.101, d2=0.701 g=0.827\n",
            ">2, 5/11, d1=0.096, d2=0.760 g=0.793\n",
            ">2, 10/11, d1=0.338, d2=0.548 g=1.052\n",
            ">3, 5/11, d1=0.031, d2=0.639 g=0.764\n",
            ">3, 10/11, d1=0.019, d2=0.736 g=0.830\n",
            ">4, 5/11, d1=0.017, d2=0.408 g=1.201\n",
            ">4, 10/11, d1=0.048, d2=0.184 g=2.250\n",
            ">5, 5/11, d1=0.000, d2=0.851 g=2.525\n",
            ">5, 10/11, d1=0.051, d2=0.183 g=5.092\n",
            ">6, 5/11, d1=0.019, d2=0.583 g=4.829\n",
            ">6, 10/11, d1=0.006, d2=0.021 g=5.800\n",
            ">7, 5/11, d1=0.005, d2=0.091 g=3.835\n",
            ">7, 10/11, d1=0.066, d2=0.258 g=5.474\n",
            ">8, 5/11, d1=0.616, d2=0.294 g=2.965\n",
            ">8, 10/11, d1=0.428, d2=0.136 g=3.234\n",
            ">9, 5/11, d1=0.207, d2=0.348 g=6.147\n",
            ">9, 10/11, d1=0.095, d2=0.254 g=3.737\n",
            ">10, 5/11, d1=0.548, d2=0.429 g=3.271\n",
            ">10, 10/11, d1=0.452, d2=0.240 g=2.872\n",
            ">Accuracy real: 88%, fake: 91%\n"
          ]
        },
        {
          "output_type": "stream",
          "name": "stderr",
          "text": [
            "WARNING:tensorflow:Compiled the loaded model, but the compiled metrics have yet to be built. `model.compile_metrics` will be empty until you train or evaluate the model.\n"
          ]
        },
        {
          "output_type": "stream",
          "name": "stdout",
          "text": [
            ">11, 5/11, d1=0.353, d2=0.237 g=4.249\n",
            ">11, 10/11, d1=0.332, d2=0.148 g=3.735\n",
            ">12, 5/11, d1=0.147, d2=0.238 g=5.563\n",
            ">12, 10/11, d1=0.636, d2=0.327 g=4.071\n",
            ">13, 5/11, d1=0.511, d2=0.209 g=3.009\n",
            ">13, 10/11, d1=0.483, d2=0.223 g=3.789\n",
            ">14, 5/11, d1=0.214, d2=0.160 g=3.322\n",
            ">14, 10/11, d1=0.157, d2=0.215 g=3.449\n",
            ">15, 5/11, d1=0.361, d2=0.806 g=1.737\n",
            ">15, 10/11, d1=0.273, d2=0.263 g=2.464\n",
            ">16, 5/11, d1=0.287, d2=0.514 g=2.716\n",
            ">16, 10/11, d1=0.450, d2=0.309 g=2.917\n",
            ">17, 5/11, d1=0.723, d2=0.482 g=2.546\n",
            ">17, 10/11, d1=0.502, d2=0.611 g=1.803\n",
            ">18, 5/11, d1=0.412, d2=0.261 g=2.133\n",
            ">18, 10/11, d1=0.181, d2=0.178 g=3.040\n",
            ">19, 5/11, d1=0.296, d2=0.173 g=3.419\n",
            ">19, 10/11, d1=0.602, d2=0.584 g=4.519\n",
            ">20, 5/11, d1=0.669, d2=1.263 g=2.916\n",
            ">20, 10/11, d1=0.537, d2=0.446 g=2.259\n",
            ">Accuracy real: 77%, fake: 99%\n"
          ]
        },
        {
          "output_type": "stream",
          "name": "stderr",
          "text": [
            "WARNING:tensorflow:Compiled the loaded model, but the compiled metrics have yet to be built. `model.compile_metrics` will be empty until you train or evaluate the model.\n"
          ]
        },
        {
          "output_type": "stream",
          "name": "stdout",
          "text": [
            ">21, 5/11, d1=0.765, d2=0.251 g=2.801\n",
            ">21, 10/11, d1=0.513, d2=0.433 g=3.015\n",
            ">22, 5/11, d1=0.521, d2=0.355 g=2.538\n",
            ">22, 10/11, d1=0.309, d2=0.343 g=3.232\n",
            ">23, 5/11, d1=0.724, d2=0.453 g=2.421\n",
            ">23, 10/11, d1=0.705, d2=0.348 g=2.591\n",
            ">24, 5/11, d1=0.604, d2=0.423 g=1.804\n",
            ">24, 10/11, d1=0.563, d2=0.302 g=2.057\n",
            ">25, 5/11, d1=0.649, d2=0.577 g=1.767\n",
            ">25, 10/11, d1=0.528, d2=0.447 g=1.935\n",
            ">26, 5/11, d1=0.774, d2=0.502 g=1.742\n",
            ">26, 10/11, d1=0.388, d2=0.289 g=2.219\n",
            ">27, 5/11, d1=0.455, d2=0.423 g=2.396\n",
            ">27, 10/11, d1=0.827, d2=0.821 g=1.626\n",
            ">28, 5/11, d1=0.550, d2=0.511 g=1.718\n",
            ">28, 10/11, d1=0.351, d2=0.313 g=2.037\n",
            ">29, 5/11, d1=0.561, d2=0.500 g=2.015\n",
            ">29, 10/11, d1=0.413, d2=0.433 g=1.769\n",
            ">30, 5/11, d1=0.451, d2=0.627 g=1.408\n",
            ">30, 10/11, d1=0.442, d2=0.580 g=1.408\n",
            ">Accuracy real: 88%, fake: 100%\n"
          ]
        },
        {
          "output_type": "stream",
          "name": "stderr",
          "text": [
            "WARNING:tensorflow:Compiled the loaded model, but the compiled metrics have yet to be built. `model.compile_metrics` will be empty until you train or evaluate the model.\n"
          ]
        },
        {
          "output_type": "stream",
          "name": "stdout",
          "text": [
            ">31, 5/11, d1=0.295, d2=0.386 g=1.847\n",
            ">31, 10/11, d1=0.306, d2=0.268 g=2.369\n",
            ">32, 5/11, d1=0.524, d2=0.493 g=2.348\n",
            ">32, 10/11, d1=0.436, d2=0.481 g=2.476\n",
            ">33, 5/11, d1=0.554, d2=0.468 g=2.103\n",
            ">33, 10/11, d1=0.521, d2=0.241 g=2.630\n",
            ">34, 5/11, d1=0.338, d2=0.305 g=2.672\n",
            ">34, 10/11, d1=0.355, d2=0.247 g=2.790\n",
            ">35, 5/11, d1=0.723, d2=1.075 g=2.655\n",
            ">35, 10/11, d1=0.660, d2=0.743 g=1.821\n",
            ">36, 5/11, d1=0.441, d2=0.358 g=1.970\n",
            ">36, 10/11, d1=0.640, d2=0.638 g=2.413\n",
            ">37, 5/11, d1=0.882, d2=0.631 g=1.551\n",
            ">37, 10/11, d1=0.716, d2=0.421 g=1.822\n",
            ">38, 5/11, d1=0.707, d2=0.493 g=1.575\n",
            ">38, 10/11, d1=0.741, d2=0.502 g=1.584\n",
            ">39, 5/11, d1=0.613, d2=0.401 g=1.799\n",
            ">39, 10/11, d1=0.431, d2=0.374 g=2.133\n",
            ">40, 5/11, d1=0.623, d2=0.326 g=2.237\n",
            ">40, 10/11, d1=0.546, d2=0.466 g=1.981\n",
            ">Accuracy real: 63%, fake: 65%\n"
          ]
        },
        {
          "output_type": "stream",
          "name": "stderr",
          "text": [
            "WARNING:tensorflow:Compiled the loaded model, but the compiled metrics have yet to be built. `model.compile_metrics` will be empty until you train or evaluate the model.\n"
          ]
        },
        {
          "output_type": "stream",
          "name": "stdout",
          "text": [
            ">41, 5/11, d1=0.638, d2=0.660 g=1.512\n",
            ">41, 10/11, d1=0.597, d2=0.554 g=1.414\n",
            ">42, 5/11, d1=0.629, d2=0.496 g=1.349\n",
            ">42, 10/11, d1=0.640, d2=0.329 g=1.590\n",
            ">43, 5/11, d1=0.346, d2=0.408 g=1.995\n",
            ">43, 10/11, d1=0.723, d2=0.615 g=1.501\n",
            ">44, 5/11, d1=0.658, d2=0.431 g=1.494\n",
            ">44, 10/11, d1=0.675, d2=0.729 g=1.136\n",
            ">45, 5/11, d1=0.594, d2=0.640 g=1.205\n",
            ">45, 10/11, d1=0.534, d2=0.583 g=1.218\n",
            ">46, 5/11, d1=0.472, d2=0.506 g=1.375\n",
            ">46, 10/11, d1=0.603, d2=0.510 g=1.409\n",
            ">47, 5/11, d1=0.541, d2=0.453 g=1.575\n",
            ">47, 10/11, d1=0.391, d2=0.435 g=1.791\n",
            ">48, 5/11, d1=0.704, d2=0.724 g=1.647\n",
            ">48, 10/11, d1=0.812, d2=0.598 g=1.548\n",
            ">49, 5/11, d1=0.456, d2=0.319 g=1.852\n",
            ">49, 10/11, d1=0.381, d2=0.276 g=1.979\n",
            ">50, 5/11, d1=0.502, d2=0.491 g=1.834\n",
            ">50, 10/11, d1=0.599, d2=0.662 g=1.694\n",
            ">Accuracy real: 54%, fake: 75%\n"
          ]
        },
        {
          "output_type": "stream",
          "name": "stderr",
          "text": [
            "WARNING:tensorflow:Compiled the loaded model, but the compiled metrics have yet to be built. `model.compile_metrics` will be empty until you train or evaluate the model.\n"
          ]
        },
        {
          "output_type": "stream",
          "name": "stdout",
          "text": [
            ">51, 5/11, d1=0.603, d2=0.426 g=1.980\n",
            ">51, 10/11, d1=0.615, d2=0.478 g=1.719\n",
            ">52, 5/11, d1=0.695, d2=0.605 g=1.488\n",
            ">52, 10/11, d1=0.551, d2=0.360 g=1.674\n",
            ">53, 5/11, d1=0.435, d2=0.656 g=1.497\n",
            ">53, 10/11, d1=0.735, d2=0.521 g=1.566\n",
            ">54, 5/11, d1=0.472, d2=0.501 g=1.630\n",
            ">54, 10/11, d1=0.512, d2=0.584 g=1.692\n",
            ">55, 5/11, d1=0.768, d2=0.540 g=1.340\n",
            ">55, 10/11, d1=0.381, d2=0.385 g=1.661\n",
            ">56, 5/11, d1=0.496, d2=0.651 g=1.345\n",
            ">56, 10/11, d1=0.622, d2=0.661 g=1.322\n",
            ">57, 5/11, d1=0.596, d2=0.590 g=1.565\n",
            ">57, 10/11, d1=0.563, d2=0.523 g=1.465\n",
            ">58, 5/11, d1=0.541, d2=0.630 g=1.377\n",
            ">58, 10/11, d1=0.530, d2=0.644 g=1.185\n",
            ">59, 5/11, d1=0.517, d2=0.492 g=1.293\n",
            ">59, 10/11, d1=0.469, d2=0.522 g=1.405\n",
            ">60, 5/11, d1=0.650, d2=0.649 g=1.184\n",
            ">60, 10/11, d1=0.675, d2=0.567 g=1.296\n",
            ">Accuracy real: 60%, fake: 92%\n"
          ]
        },
        {
          "output_type": "stream",
          "name": "stderr",
          "text": [
            "WARNING:tensorflow:Compiled the loaded model, but the compiled metrics have yet to be built. `model.compile_metrics` will be empty until you train or evaluate the model.\n"
          ]
        },
        {
          "output_type": "stream",
          "name": "stdout",
          "text": [
            ">61, 5/11, d1=0.706, d2=0.625 g=1.263\n",
            ">61, 10/11, d1=0.584, d2=0.528 g=1.366\n",
            ">62, 5/11, d1=0.664, d2=0.465 g=1.337\n",
            ">62, 10/11, d1=0.518, d2=0.443 g=1.414\n",
            ">63, 5/11, d1=0.594, d2=0.521 g=1.428\n",
            ">63, 10/11, d1=0.569, d2=0.713 g=1.312\n",
            ">64, 5/11, d1=0.576, d2=0.601 g=1.212\n",
            ">64, 10/11, d1=0.631, d2=0.602 g=1.310\n",
            ">65, 5/11, d1=0.645, d2=0.426 g=1.384\n",
            ">65, 10/11, d1=0.572, d2=0.440 g=1.695\n",
            ">66, 5/11, d1=0.744, d2=0.671 g=1.251\n",
            ">66, 10/11, d1=0.526, d2=0.585 g=1.261\n",
            ">67, 5/11, d1=0.549, d2=0.598 g=1.109\n",
            ">67, 10/11, d1=0.592, d2=0.738 g=0.988\n",
            ">68, 5/11, d1=0.613, d2=0.807 g=0.914\n",
            ">68, 10/11, d1=0.648, d2=0.565 g=1.117\n",
            ">69, 5/11, d1=0.478, d2=0.508 g=1.335\n",
            ">69, 10/11, d1=0.519, d2=0.538 g=1.441\n",
            ">70, 5/11, d1=0.527, d2=0.472 g=1.758\n",
            ">70, 10/11, d1=0.496, d2=0.577 g=1.622\n",
            ">Accuracy real: 59%, fake: 69%\n"
          ]
        },
        {
          "output_type": "stream",
          "name": "stderr",
          "text": [
            "WARNING:tensorflow:Compiled the loaded model, but the compiled metrics have yet to be built. `model.compile_metrics` will be empty until you train or evaluate the model.\n"
          ]
        },
        {
          "output_type": "stream",
          "name": "stdout",
          "text": [
            ">71, 5/11, d1=0.740, d2=0.557 g=1.372\n",
            ">71, 10/11, d1=0.578, d2=0.367 g=1.787\n",
            ">72, 5/11, d1=0.481, d2=0.452 g=1.475\n",
            ">72, 10/11, d1=0.588, d2=0.622 g=1.322\n",
            ">73, 5/11, d1=0.730, d2=0.660 g=1.089\n",
            ">73, 10/11, d1=0.614, d2=0.601 g=1.204\n",
            ">74, 5/11, d1=0.480, d2=0.471 g=1.352\n",
            ">74, 10/11, d1=0.416, d2=0.442 g=1.480\n",
            ">75, 5/11, d1=0.548, d2=0.528 g=1.367\n",
            ">75, 10/11, d1=0.589, d2=0.469 g=1.589\n",
            ">76, 5/11, d1=0.501, d2=0.572 g=1.601\n",
            ">76, 10/11, d1=0.521, d2=0.682 g=1.358\n",
            ">77, 5/11, d1=0.600, d2=0.557 g=1.412\n",
            ">77, 10/11, d1=0.489, d2=0.409 g=1.652\n",
            ">78, 5/11, d1=0.592, d2=0.534 g=1.697\n",
            ">78, 10/11, d1=0.666, d2=0.527 g=1.662\n",
            ">79, 5/11, d1=0.640, d2=0.568 g=1.521\n",
            ">79, 10/11, d1=0.802, d2=0.539 g=1.539\n",
            ">80, 5/11, d1=0.579, d2=0.450 g=1.709\n",
            ">80, 10/11, d1=0.606, d2=0.500 g=1.619\n",
            ">Accuracy real: 64%, fake: 61%\n"
          ]
        },
        {
          "output_type": "stream",
          "name": "stderr",
          "text": [
            "WARNING:tensorflow:Compiled the loaded model, but the compiled metrics have yet to be built. `model.compile_metrics` will be empty until you train or evaluate the model.\n"
          ]
        },
        {
          "output_type": "stream",
          "name": "stdout",
          "text": [
            ">81, 5/11, d1=0.577, d2=0.357 g=1.708\n",
            ">81, 10/11, d1=0.447, d2=0.459 g=1.867\n",
            ">82, 5/11, d1=0.812, d2=0.682 g=1.681\n",
            ">82, 10/11, d1=0.676, d2=0.594 g=1.366\n",
            ">83, 5/11, d1=0.531, d2=0.494 g=1.349\n",
            ">83, 10/11, d1=0.538, d2=0.575 g=1.350\n",
            ">84, 5/11, d1=0.530, d2=0.455 g=1.505\n",
            ">84, 10/11, d1=0.605, d2=0.607 g=1.432\n",
            ">85, 5/11, d1=0.501, d2=0.448 g=1.477\n",
            ">85, 10/11, d1=0.391, d2=0.443 g=1.714\n",
            ">86, 5/11, d1=0.475, d2=0.495 g=1.598\n",
            ">86, 10/11, d1=0.861, d2=0.735 g=1.533\n",
            ">87, 5/11, d1=0.589, d2=0.503 g=1.480\n",
            ">87, 10/11, d1=0.545, d2=0.473 g=1.506\n",
            ">88, 5/11, d1=0.535, d2=0.575 g=1.290\n",
            ">88, 10/11, d1=0.639, d2=0.492 g=1.343\n",
            ">89, 5/11, d1=0.478, d2=0.456 g=1.455\n",
            ">89, 10/11, d1=0.525, d2=0.705 g=1.267\n",
            ">90, 5/11, d1=0.497, d2=0.437 g=1.490\n",
            ">90, 10/11, d1=0.613, d2=0.553 g=1.720\n",
            ">Accuracy real: 64%, fake: 97%\n"
          ]
        },
        {
          "output_type": "stream",
          "name": "stderr",
          "text": [
            "WARNING:tensorflow:Compiled the loaded model, but the compiled metrics have yet to be built. `model.compile_metrics` will be empty until you train or evaluate the model.\n"
          ]
        },
        {
          "output_type": "stream",
          "name": "stdout",
          "text": [
            ">91, 5/11, d1=0.494, d2=0.428 g=2.034\n",
            ">91, 10/11, d1=0.495, d2=0.554 g=1.754\n",
            ">92, 5/11, d1=0.770, d2=0.504 g=1.553\n",
            ">92, 10/11, d1=0.582, d2=0.385 g=1.925\n",
            ">93, 5/11, d1=0.717, d2=0.502 g=2.245\n",
            ">93, 10/11, d1=0.834, d2=0.498 g=1.899\n",
            ">94, 5/11, d1=0.560, d2=0.481 g=1.867\n",
            ">94, 10/11, d1=0.564, d2=0.613 g=1.392\n",
            ">95, 5/11, d1=0.676, d2=0.701 g=1.295\n",
            ">95, 10/11, d1=0.603, d2=0.461 g=1.461\n",
            ">96, 5/11, d1=0.485, d2=0.439 g=1.720\n",
            ">96, 10/11, d1=0.422, d2=0.494 g=1.692\n",
            ">97, 5/11, d1=0.495, d2=0.478 g=1.643\n",
            ">97, 10/11, d1=0.546, d2=0.472 g=1.734\n",
            ">98, 5/11, d1=0.692, d2=0.569 g=1.983\n",
            ">98, 10/11, d1=0.839, d2=0.669 g=2.180\n",
            ">99, 5/11, d1=0.844, d2=0.625 g=1.481\n",
            ">99, 10/11, d1=0.636, d2=0.599 g=1.308\n",
            ">100, 5/11, d1=0.606, d2=0.446 g=1.509\n",
            ">100, 10/11, d1=0.562, d2=0.444 g=1.688\n",
            ">Accuracy real: 87%, fake: 97%\n"
          ]
        },
        {
          "output_type": "stream",
          "name": "stderr",
          "text": [
            "WARNING:tensorflow:Compiled the loaded model, but the compiled metrics have yet to be built. `model.compile_metrics` will be empty until you train or evaluate the model.\n"
          ]
        },
        {
          "output_type": "stream",
          "name": "stdout",
          "text": [
            ">101, 5/11, d1=0.466, d2=0.460 g=1.598\n",
            ">101, 10/11, d1=0.504, d2=0.548 g=1.437\n",
            ">102, 5/11, d1=0.538, d2=0.523 g=1.280\n",
            ">102, 10/11, d1=0.523, d2=0.626 g=1.441\n",
            ">103, 5/11, d1=0.439, d2=0.544 g=1.442\n",
            ">103, 10/11, d1=0.571, d2=0.478 g=1.635\n",
            ">104, 5/11, d1=0.679, d2=0.496 g=1.414\n",
            ">104, 10/11, d1=0.564, d2=0.607 g=1.407\n",
            ">105, 5/11, d1=0.521, d2=0.565 g=1.562\n",
            ">105, 10/11, d1=0.708, d2=0.689 g=1.367\n",
            ">106, 5/11, d1=0.615, d2=0.474 g=1.484\n",
            ">106, 10/11, d1=0.576, d2=0.593 g=1.204\n",
            ">107, 5/11, d1=0.657, d2=0.744 g=1.150\n",
            ">107, 10/11, d1=0.678, d2=0.837 g=1.156\n",
            ">108, 5/11, d1=0.559, d2=0.546 g=1.229\n",
            ">108, 10/11, d1=0.586, d2=0.557 g=1.256\n",
            ">109, 5/11, d1=0.526, d2=0.489 g=1.222\n",
            ">109, 10/11, d1=0.589, d2=0.562 g=1.261\n",
            ">110, 5/11, d1=0.470, d2=0.553 g=1.234\n",
            ">110, 10/11, d1=0.585, d2=0.586 g=1.478\n",
            ">Accuracy real: 73%, fake: 83%\n"
          ]
        },
        {
          "output_type": "stream",
          "name": "stderr",
          "text": [
            "WARNING:tensorflow:Compiled the loaded model, but the compiled metrics have yet to be built. `model.compile_metrics` will be empty until you train or evaluate the model.\n"
          ]
        },
        {
          "output_type": "stream",
          "name": "stdout",
          "text": [
            ">111, 5/11, d1=0.485, d2=0.420 g=1.587\n",
            ">111, 10/11, d1=0.528, d2=0.529 g=1.529\n",
            ">112, 5/11, d1=0.626, d2=0.571 g=1.481\n",
            ">112, 10/11, d1=0.590, d2=0.498 g=1.547\n",
            ">113, 5/11, d1=0.551, d2=0.587 g=1.653\n",
            ">113, 10/11, d1=0.484, d2=0.617 g=1.771\n",
            ">114, 5/11, d1=0.488, d2=0.447 g=2.266\n",
            ">114, 10/11, d1=0.761, d2=0.512 g=1.830\n",
            ">115, 5/11, d1=0.527, d2=0.597 g=1.449\n",
            ">115, 10/11, d1=0.577, d2=0.707 g=1.512\n",
            ">116, 5/11, d1=0.587, d2=0.566 g=1.650\n",
            ">116, 10/11, d1=0.496, d2=0.368 g=1.897\n",
            ">117, 5/11, d1=0.529, d2=0.449 g=1.949\n",
            ">117, 10/11, d1=0.761, d2=0.506 g=1.820\n",
            ">118, 5/11, d1=0.542, d2=0.475 g=1.850\n",
            ">118, 10/11, d1=0.525, d2=0.497 g=1.569\n",
            ">119, 5/11, d1=0.471, d2=0.490 g=1.494\n",
            ">119, 10/11, d1=0.558, d2=0.449 g=1.618\n",
            ">120, 5/11, d1=0.594, d2=0.403 g=1.746\n",
            ">120, 10/11, d1=0.522, d2=0.554 g=1.630\n",
            ">Accuracy real: 77%, fake: 82%\n"
          ]
        },
        {
          "output_type": "stream",
          "name": "stderr",
          "text": [
            "WARNING:tensorflow:Compiled the loaded model, but the compiled metrics have yet to be built. `model.compile_metrics` will be empty until you train or evaluate the model.\n"
          ]
        },
        {
          "output_type": "stream",
          "name": "stdout",
          "text": [
            ">121, 5/11, d1=0.513, d2=0.485 g=1.560\n",
            ">121, 10/11, d1=0.488, d2=0.573 g=1.456\n",
            ">122, 5/11, d1=0.631, d2=0.499 g=1.565\n",
            ">122, 10/11, d1=0.799, d2=0.574 g=1.177\n",
            ">123, 5/11, d1=0.588, d2=0.600 g=1.369\n",
            ">123, 10/11, d1=0.567, d2=0.520 g=1.377\n",
            ">124, 5/11, d1=0.687, d2=0.575 g=1.413\n",
            ">124, 10/11, d1=0.515, d2=0.573 g=1.744\n",
            ">125, 5/11, d1=0.640, d2=0.489 g=1.499\n",
            ">125, 10/11, d1=0.500, d2=0.470 g=1.433\n",
            ">126, 5/11, d1=0.623, d2=0.455 g=1.524\n",
            ">126, 10/11, d1=0.605, d2=0.458 g=1.606\n",
            ">127, 5/11, d1=0.511, d2=0.558 g=1.462\n",
            ">127, 10/11, d1=0.619, d2=0.440 g=1.645\n",
            ">128, 5/11, d1=0.552, d2=0.699 g=1.179\n",
            ">128, 10/11, d1=0.677, d2=0.727 g=1.219\n",
            ">129, 5/11, d1=0.523, d2=0.526 g=1.445\n",
            ">129, 10/11, d1=0.446, d2=0.575 g=1.346\n",
            ">130, 5/11, d1=0.553, d2=0.473 g=1.554\n",
            ">130, 10/11, d1=0.625, d2=0.576 g=1.163\n",
            ">Accuracy real: 63%, fake: 65%\n"
          ]
        },
        {
          "output_type": "stream",
          "name": "stderr",
          "text": [
            "WARNING:tensorflow:Compiled the loaded model, but the compiled metrics have yet to be built. `model.compile_metrics` will be empty until you train or evaluate the model.\n"
          ]
        },
        {
          "output_type": "stream",
          "name": "stdout",
          "text": [
            ">131, 5/11, d1=0.672, d2=0.717 g=0.930\n",
            ">131, 10/11, d1=0.532, d2=0.593 g=1.133\n",
            ">132, 5/11, d1=0.468, d2=0.571 g=1.179\n",
            ">132, 10/11, d1=0.703, d2=0.592 g=1.265\n",
            ">133, 5/11, d1=0.489, d2=0.376 g=1.507\n",
            ">133, 10/11, d1=0.515, d2=0.521 g=1.529\n",
            ">134, 5/11, d1=0.624, d2=0.449 g=1.429\n",
            ">134, 10/11, d1=0.559, d2=0.450 g=1.556\n",
            ">135, 5/11, d1=0.617, d2=0.481 g=1.626\n",
            ">135, 10/11, d1=0.545, d2=0.399 g=1.836\n",
            ">136, 5/11, d1=0.566, d2=0.480 g=2.156\n",
            ">136, 10/11, d1=0.746, d2=0.652 g=2.037\n",
            ">137, 5/11, d1=0.598, d2=0.528 g=1.786\n",
            ">137, 10/11, d1=0.536, d2=0.561 g=1.427\n",
            ">138, 5/11, d1=0.481, d2=0.561 g=1.427\n",
            ">138, 10/11, d1=0.550, d2=0.638 g=1.436\n",
            ">139, 5/11, d1=0.833, d2=0.581 g=1.182\n",
            ">139, 10/11, d1=0.607, d2=0.504 g=1.449\n",
            ">140, 5/11, d1=0.564, d2=0.487 g=1.484\n",
            ">140, 10/11, d1=0.443, d2=0.477 g=1.715\n",
            ">Accuracy real: 79%, fake: 80%\n"
          ]
        },
        {
          "output_type": "stream",
          "name": "stderr",
          "text": [
            "WARNING:tensorflow:Compiled the loaded model, but the compiled metrics have yet to be built. `model.compile_metrics` will be empty until you train or evaluate the model.\n"
          ]
        },
        {
          "output_type": "stream",
          "name": "stdout",
          "text": [
            ">141, 5/11, d1=0.550, d2=0.742 g=1.456\n",
            ">141, 10/11, d1=0.690, d2=0.673 g=1.284\n",
            ">142, 5/11, d1=0.478, d2=0.488 g=1.355\n",
            ">142, 10/11, d1=0.621, d2=0.527 g=1.291\n",
            ">143, 5/11, d1=0.534, d2=0.486 g=1.583\n",
            ">143, 10/11, d1=0.617, d2=0.531 g=1.522\n",
            ">144, 5/11, d1=0.507, d2=0.470 g=1.556\n",
            ">144, 10/11, d1=0.811, d2=0.555 g=1.355\n",
            ">145, 5/11, d1=0.639, d2=0.429 g=1.519\n",
            ">145, 10/11, d1=0.473, d2=0.423 g=1.652\n",
            ">146, 5/11, d1=0.476, d2=0.479 g=1.592\n",
            ">146, 10/11, d1=0.638, d2=0.653 g=1.183\n",
            ">147, 5/11, d1=0.818, d2=0.717 g=1.211\n",
            ">147, 10/11, d1=0.501, d2=0.574 g=1.561\n",
            ">148, 5/11, d1=0.549, d2=0.539 g=1.557\n",
            ">148, 10/11, d1=0.524, d2=0.467 g=1.356\n",
            ">149, 5/11, d1=0.490, d2=0.480 g=1.355\n",
            ">149, 10/11, d1=0.575, d2=0.639 g=1.094\n",
            ">150, 5/11, d1=0.433, d2=0.479 g=1.539\n",
            ">150, 10/11, d1=0.441, d2=0.509 g=1.473\n",
            ">Accuracy real: 79%, fake: 83%\n"
          ]
        },
        {
          "output_type": "stream",
          "name": "stderr",
          "text": [
            "WARNING:tensorflow:Compiled the loaded model, but the compiled metrics have yet to be built. `model.compile_metrics` will be empty until you train or evaluate the model.\n"
          ]
        },
        {
          "output_type": "stream",
          "name": "stdout",
          "text": [
            ">151, 5/11, d1=0.468, d2=0.518 g=1.338\n",
            ">151, 10/11, d1=0.432, d2=0.508 g=1.400\n",
            ">152, 5/11, d1=0.587, d2=0.640 g=1.572\n",
            ">152, 10/11, d1=0.660, d2=0.468 g=1.639\n",
            ">153, 5/11, d1=0.646, d2=0.570 g=1.336\n",
            ">153, 10/11, d1=0.599, d2=0.573 g=1.530\n",
            ">154, 5/11, d1=0.525, d2=0.547 g=1.611\n",
            ">154, 10/11, d1=1.056, d2=0.577 g=1.618\n",
            ">155, 5/11, d1=0.625, d2=0.399 g=1.811\n",
            ">155, 10/11, d1=0.565, d2=0.554 g=1.276\n",
            ">156, 5/11, d1=0.583, d2=0.569 g=1.235\n",
            ">156, 10/11, d1=0.460, d2=0.465 g=1.573\n",
            ">157, 5/11, d1=0.597, d2=0.621 g=1.343\n",
            ">157, 10/11, d1=0.660, d2=0.547 g=1.431\n",
            ">158, 5/11, d1=0.494, d2=0.512 g=1.425\n",
            ">158, 10/11, d1=0.509, d2=0.593 g=1.368\n",
            ">159, 5/11, d1=0.703, d2=0.613 g=1.388\n",
            ">159, 10/11, d1=0.539, d2=0.506 g=1.468\n",
            ">160, 5/11, d1=0.521, d2=0.510 g=1.464\n",
            ">160, 10/11, d1=0.428, d2=0.417 g=1.624\n",
            ">Accuracy real: 80%, fake: 94%\n"
          ]
        },
        {
          "output_type": "stream",
          "name": "stderr",
          "text": [
            "WARNING:tensorflow:Compiled the loaded model, but the compiled metrics have yet to be built. `model.compile_metrics` will be empty until you train or evaluate the model.\n"
          ]
        },
        {
          "output_type": "stream",
          "name": "stdout",
          "text": [
            ">161, 5/11, d1=0.523, d2=0.625 g=1.415\n",
            ">161, 10/11, d1=0.495, d2=0.508 g=1.772\n",
            ">162, 5/11, d1=0.756, d2=0.637 g=1.861\n",
            ">162, 10/11, d1=0.558, d2=0.663 g=1.932\n",
            ">163, 5/11, d1=0.726, d2=0.698 g=1.379\n",
            ">163, 10/11, d1=0.702, d2=0.450 g=1.705\n",
            ">164, 5/11, d1=0.439, d2=0.861 g=1.687\n",
            ">164, 10/11, d1=0.800, d2=0.423 g=1.989\n",
            ">165, 5/11, d1=0.476, d2=0.516 g=1.577\n",
            ">165, 10/11, d1=0.761, d2=0.610 g=1.200\n",
            ">166, 5/11, d1=0.477, d2=0.451 g=1.500\n",
            ">166, 10/11, d1=0.517, d2=0.522 g=1.483\n",
            ">167, 5/11, d1=0.645, d2=0.442 g=1.643\n",
            ">167, 10/11, d1=0.556, d2=0.599 g=1.362\n",
            ">168, 5/11, d1=0.763, d2=0.556 g=1.394\n",
            ">168, 10/11, d1=0.441, d2=0.455 g=1.614\n",
            ">169, 5/11, d1=0.590, d2=0.658 g=1.699\n",
            ">169, 10/11, d1=0.676, d2=0.475 g=1.531\n",
            ">170, 5/11, d1=0.623, d2=0.522 g=1.457\n",
            ">170, 10/11, d1=0.524, d2=0.486 g=1.366\n",
            ">Accuracy real: 84%, fake: 80%\n"
          ]
        },
        {
          "output_type": "stream",
          "name": "stderr",
          "text": [
            "WARNING:tensorflow:Compiled the loaded model, but the compiled metrics have yet to be built. `model.compile_metrics` will be empty until you train or evaluate the model.\n"
          ]
        },
        {
          "output_type": "stream",
          "name": "stdout",
          "text": [
            ">171, 5/11, d1=0.388, d2=0.586 g=1.577\n",
            ">171, 10/11, d1=0.546, d2=0.588 g=1.524\n",
            ">172, 5/11, d1=0.502, d2=0.508 g=1.720\n",
            ">172, 10/11, d1=0.588, d2=0.414 g=1.811\n",
            ">173, 5/11, d1=0.414, d2=0.459 g=1.571\n",
            ">173, 10/11, d1=0.421, d2=0.446 g=1.587\n",
            ">174, 5/11, d1=0.619, d2=0.461 g=1.833\n",
            ">174, 10/11, d1=0.536, d2=0.659 g=1.591\n",
            ">175, 5/11, d1=0.467, d2=0.374 g=1.740\n",
            ">175, 10/11, d1=0.510, d2=0.504 g=1.497\n",
            ">176, 5/11, d1=0.508, d2=0.526 g=1.683\n",
            ">176, 10/11, d1=0.675, d2=0.496 g=1.745\n",
            ">177, 5/11, d1=0.390, d2=0.436 g=1.728\n",
            ">177, 10/11, d1=0.421, d2=0.569 g=1.470\n",
            ">178, 5/11, d1=0.476, d2=0.376 g=1.980\n",
            ">178, 10/11, d1=0.493, d2=0.939 g=1.832\n",
            ">179, 5/11, d1=0.790, d2=0.519 g=1.495\n",
            ">179, 10/11, d1=0.547, d2=0.454 g=1.441\n",
            ">180, 5/11, d1=0.610, d2=0.654 g=1.489\n",
            ">180, 10/11, d1=0.493, d2=0.438 g=1.508\n",
            ">Accuracy real: 73%, fake: 91%\n"
          ]
        },
        {
          "output_type": "stream",
          "name": "stderr",
          "text": [
            "WARNING:tensorflow:Compiled the loaded model, but the compiled metrics have yet to be built. `model.compile_metrics` will be empty until you train or evaluate the model.\n"
          ]
        },
        {
          "output_type": "stream",
          "name": "stdout",
          "text": [
            ">181, 5/11, d1=0.637, d2=0.541 g=1.576\n",
            ">181, 10/11, d1=0.676, d2=0.408 g=1.601\n",
            ">182, 5/11, d1=0.474, d2=0.543 g=1.453\n",
            ">182, 10/11, d1=0.485, d2=0.455 g=1.496\n",
            ">183, 5/11, d1=0.436, d2=0.386 g=1.690\n",
            ">183, 10/11, d1=0.754, d2=0.587 g=1.708\n",
            ">184, 5/11, d1=0.439, d2=0.560 g=1.476\n",
            ">184, 10/11, d1=0.635, d2=0.666 g=1.370\n",
            ">185, 5/11, d1=0.638, d2=0.601 g=1.597\n",
            ">185, 10/11, d1=0.552, d2=0.488 g=1.542\n",
            ">186, 5/11, d1=0.469, d2=0.467 g=1.576\n",
            ">186, 10/11, d1=0.523, d2=0.606 g=1.535\n",
            ">187, 5/11, d1=0.584, d2=0.658 g=1.692\n",
            ">187, 10/11, d1=0.702, d2=0.466 g=1.749\n",
            ">188, 5/11, d1=0.675, d2=0.454 g=1.490\n",
            ">188, 10/11, d1=0.515, d2=0.406 g=1.708\n",
            ">189, 5/11, d1=0.543, d2=0.452 g=1.790\n",
            ">189, 10/11, d1=0.510, d2=0.529 g=1.762\n",
            ">190, 5/11, d1=0.609, d2=0.640 g=1.579\n",
            ">190, 10/11, d1=0.590, d2=0.623 g=1.398\n",
            ">Accuracy real: 64%, fake: 71%\n"
          ]
        },
        {
          "output_type": "stream",
          "name": "stderr",
          "text": [
            "WARNING:tensorflow:Compiled the loaded model, but the compiled metrics have yet to be built. `model.compile_metrics` will be empty until you train or evaluate the model.\n"
          ]
        },
        {
          "output_type": "stream",
          "name": "stdout",
          "text": [
            ">191, 5/11, d1=0.489, d2=0.730 g=1.417\n",
            ">191, 10/11, d1=0.523, d2=0.487 g=1.631\n",
            ">192, 5/11, d1=0.425, d2=0.416 g=1.744\n",
            ">192, 10/11, d1=0.744, d2=0.620 g=1.738\n",
            ">193, 5/11, d1=0.539, d2=0.462 g=2.044\n",
            ">193, 10/11, d1=0.783, d2=0.670 g=1.743\n",
            ">194, 5/11, d1=0.661, d2=0.437 g=1.839\n",
            ">194, 10/11, d1=0.485, d2=0.404 g=1.673\n",
            ">195, 5/11, d1=0.592, d2=0.493 g=1.483\n",
            ">195, 10/11, d1=0.580, d2=0.549 g=1.426\n",
            ">196, 5/11, d1=0.509, d2=0.517 g=1.349\n",
            ">196, 10/11, d1=0.523, d2=0.457 g=1.556\n",
            ">197, 5/11, d1=0.468, d2=0.501 g=1.651\n",
            ">197, 10/11, d1=0.403, d2=0.497 g=1.506\n",
            ">198, 5/11, d1=0.549, d2=0.641 g=1.326\n",
            ">198, 10/11, d1=0.485, d2=0.541 g=1.574\n",
            ">199, 5/11, d1=0.589, d2=0.505 g=1.722\n",
            ">199, 10/11, d1=0.609, d2=0.483 g=1.697\n",
            ">200, 5/11, d1=0.648, d2=0.490 g=1.519\n",
            ">200, 10/11, d1=0.576, d2=0.446 g=1.591\n",
            ">Accuracy real: 69%, fake: 87%\n"
          ]
        },
        {
          "output_type": "stream",
          "name": "stderr",
          "text": [
            "WARNING:tensorflow:Compiled the loaded model, but the compiled metrics have yet to be built. `model.compile_metrics` will be empty until you train or evaluate the model.\n"
          ]
        },
        {
          "output_type": "stream",
          "name": "stdout",
          "text": [
            ">201, 5/11, d1=0.533, d2=0.361 g=1.758\n",
            ">201, 10/11, d1=0.471, d2=0.485 g=1.867\n",
            ">202, 5/11, d1=0.531, d2=0.426 g=1.719\n",
            ">202, 10/11, d1=0.495, d2=0.622 g=1.572\n",
            ">203, 5/11, d1=0.738, d2=0.572 g=1.362\n",
            ">203, 10/11, d1=0.597, d2=0.475 g=1.723\n",
            ">204, 5/11, d1=0.403, d2=0.348 g=1.920\n",
            ">204, 10/11, d1=0.613, d2=0.562 g=1.874\n",
            ">205, 5/11, d1=0.607, d2=0.400 g=1.813\n",
            ">205, 10/11, d1=0.310, d2=0.534 g=1.783\n",
            ">206, 5/11, d1=0.622, d2=0.531 g=1.704\n",
            ">206, 10/11, d1=0.404, d2=0.568 g=1.766\n",
            ">207, 5/11, d1=0.765, d2=0.634 g=1.690\n",
            ">207, 10/11, d1=0.629, d2=0.536 g=1.626\n",
            ">208, 5/11, d1=0.530, d2=0.500 g=1.508\n",
            ">208, 10/11, d1=0.587, d2=0.463 g=1.500\n",
            ">209, 5/11, d1=0.393, d2=0.278 g=1.917\n",
            ">209, 10/11, d1=0.386, d2=0.409 g=1.758\n",
            ">210, 5/11, d1=0.570, d2=0.541 g=1.457\n",
            ">210, 10/11, d1=0.572, d2=0.431 g=1.508\n",
            ">Accuracy real: 75%, fake: 85%\n"
          ]
        },
        {
          "output_type": "stream",
          "name": "stderr",
          "text": [
            "WARNING:tensorflow:Compiled the loaded model, but the compiled metrics have yet to be built. `model.compile_metrics` will be empty until you train or evaluate the model.\n"
          ]
        },
        {
          "output_type": "stream",
          "name": "stdout",
          "text": [
            ">211, 5/11, d1=0.405, d2=0.452 g=1.538\n",
            ">211, 10/11, d1=0.518, d2=0.507 g=1.528\n",
            ">212, 5/11, d1=0.594, d2=0.514 g=1.457\n",
            ">212, 10/11, d1=0.805, d2=0.623 g=1.417\n",
            ">213, 5/11, d1=0.598, d2=0.600 g=1.402\n",
            ">213, 10/11, d1=0.741, d2=0.599 g=1.421\n",
            ">214, 5/11, d1=0.523, d2=0.635 g=1.473\n",
            ">214, 10/11, d1=0.608, d2=0.636 g=1.410\n",
            ">215, 5/11, d1=0.492, d2=0.401 g=1.518\n",
            ">215, 10/11, d1=0.484, d2=0.459 g=1.506\n",
            ">216, 5/11, d1=0.537, d2=0.440 g=1.502\n",
            ">216, 10/11, d1=0.571, d2=0.553 g=1.599\n",
            ">217, 5/11, d1=0.608, d2=0.506 g=1.603\n",
            ">217, 10/11, d1=0.666, d2=0.466 g=1.560\n",
            ">218, 5/11, d1=0.686, d2=0.557 g=1.537\n",
            ">218, 10/11, d1=0.521, d2=0.451 g=1.394\n",
            ">219, 5/11, d1=0.661, d2=0.500 g=1.280\n",
            ">219, 10/11, d1=0.530, d2=0.507 g=1.235\n",
            ">220, 5/11, d1=0.593, d2=0.564 g=1.495\n",
            ">220, 10/11, d1=0.480, d2=0.440 g=1.624\n",
            ">Accuracy real: 69%, fake: 93%\n"
          ]
        },
        {
          "output_type": "stream",
          "name": "stderr",
          "text": [
            "WARNING:tensorflow:Compiled the loaded model, but the compiled metrics have yet to be built. `model.compile_metrics` will be empty until you train or evaluate the model.\n"
          ]
        },
        {
          "output_type": "stream",
          "name": "stdout",
          "text": [
            ">221, 5/11, d1=0.426, d2=0.368 g=1.616\n",
            ">221, 10/11, d1=0.374, d2=0.469 g=1.666\n",
            ">222, 5/11, d1=0.507, d2=0.605 g=1.613\n",
            ">222, 10/11, d1=0.513, d2=0.466 g=1.655\n",
            ">223, 5/11, d1=0.482, d2=0.575 g=1.508\n",
            ">223, 10/11, d1=0.796, d2=0.632 g=1.570\n",
            ">224, 5/11, d1=0.541, d2=0.472 g=1.444\n",
            ">224, 10/11, d1=0.661, d2=0.447 g=1.575\n",
            ">225, 5/11, d1=0.524, d2=0.382 g=1.649\n",
            ">225, 10/11, d1=0.483, d2=0.393 g=1.464\n",
            ">226, 5/11, d1=0.552, d2=0.566 g=1.485\n",
            ">226, 10/11, d1=0.405, d2=0.418 g=1.595\n",
            ">227, 5/11, d1=0.470, d2=0.538 g=1.614\n",
            ">227, 10/11, d1=0.576, d2=0.400 g=1.805\n",
            ">228, 5/11, d1=0.549, d2=0.557 g=1.862\n",
            ">228, 10/11, d1=0.670, d2=0.561 g=1.688\n",
            ">229, 5/11, d1=0.530, d2=0.688 g=1.660\n",
            ">229, 10/11, d1=0.476, d2=0.381 g=1.772\n",
            ">230, 5/11, d1=0.391, d2=0.564 g=1.813\n",
            ">230, 10/11, d1=0.748, d2=0.363 g=1.995\n",
            ">Accuracy real: 58%, fake: 97%\n"
          ]
        },
        {
          "output_type": "stream",
          "name": "stderr",
          "text": [
            "WARNING:tensorflow:Compiled the loaded model, but the compiled metrics have yet to be built. `model.compile_metrics` will be empty until you train or evaluate the model.\n"
          ]
        },
        {
          "output_type": "stream",
          "name": "stdout",
          "text": [
            ">231, 5/11, d1=0.365, d2=0.372 g=1.764\n",
            ">231, 10/11, d1=0.586, d2=0.523 g=1.345\n",
            ">232, 5/11, d1=0.545, d2=0.562 g=1.516\n",
            ">232, 10/11, d1=0.331, d2=0.344 g=1.859\n",
            ">233, 5/11, d1=0.493, d2=0.455 g=1.499\n",
            ">233, 10/11, d1=0.406, d2=0.470 g=1.684\n",
            ">234, 5/11, d1=0.722, d2=0.438 g=1.566\n",
            ">234, 10/11, d1=0.715, d2=0.632 g=2.054\n",
            ">235, 5/11, d1=0.621, d2=0.816 g=2.072\n",
            ">235, 10/11, d1=0.396, d2=0.446 g=2.088\n",
            ">236, 5/11, d1=0.530, d2=0.494 g=1.712\n",
            ">236, 10/11, d1=0.536, d2=0.535 g=1.736\n",
            ">237, 5/11, d1=0.487, d2=0.487 g=1.736\n",
            ">237, 10/11, d1=0.493, d2=0.380 g=1.792\n",
            ">238, 5/11, d1=0.656, d2=0.714 g=1.584\n",
            ">238, 10/11, d1=0.531, d2=0.409 g=1.839\n",
            ">239, 5/11, d1=0.392, d2=0.429 g=1.712\n",
            ">239, 10/11, d1=0.565, d2=0.575 g=1.653\n",
            ">240, 5/11, d1=0.464, d2=0.545 g=1.712\n",
            ">240, 10/11, d1=0.566, d2=0.666 g=1.742\n",
            ">Accuracy real: 71%, fake: 83%\n"
          ]
        },
        {
          "output_type": "stream",
          "name": "stderr",
          "text": [
            "WARNING:tensorflow:Compiled the loaded model, but the compiled metrics have yet to be built. `model.compile_metrics` will be empty until you train or evaluate the model.\n"
          ]
        },
        {
          "output_type": "stream",
          "name": "stdout",
          "text": [
            ">241, 5/11, d1=0.389, d2=0.284 g=2.008\n",
            ">241, 10/11, d1=0.482, d2=0.371 g=2.064\n",
            ">242, 5/11, d1=0.400, d2=0.497 g=1.993\n",
            ">242, 10/11, d1=0.799, d2=1.026 g=2.727\n",
            ">243, 5/11, d1=0.438, d2=0.515 g=1.667\n",
            ">243, 10/11, d1=0.683, d2=0.453 g=1.853\n",
            ">244, 5/11, d1=0.465, d2=0.474 g=1.757\n",
            ">244, 10/11, d1=0.448, d2=0.461 g=1.531\n",
            ">245, 5/11, d1=0.646, d2=0.682 g=1.514\n",
            ">245, 10/11, d1=0.671, d2=0.517 g=1.588\n",
            ">246, 5/11, d1=0.524, d2=0.440 g=1.667\n",
            ">246, 10/11, d1=0.409, d2=0.393 g=1.859\n",
            ">247, 5/11, d1=0.282, d2=0.398 g=1.902\n",
            ">247, 10/11, d1=0.436, d2=0.460 g=1.645\n",
            ">248, 5/11, d1=0.263, d2=0.417 g=1.885\n",
            ">248, 10/11, d1=0.421, d2=0.661 g=2.122\n",
            ">249, 5/11, d1=0.441, d2=0.507 g=2.014\n",
            ">249, 10/11, d1=0.958, d2=0.748 g=2.174\n",
            ">250, 5/11, d1=0.477, d2=0.600 g=1.472\n",
            ">250, 10/11, d1=0.677, d2=0.591 g=1.339\n",
            ">Accuracy real: 60%, fake: 81%\n"
          ]
        },
        {
          "output_type": "stream",
          "name": "stderr",
          "text": [
            "WARNING:tensorflow:Compiled the loaded model, but the compiled metrics have yet to be built. `model.compile_metrics` will be empty until you train or evaluate the model.\n"
          ]
        },
        {
          "output_type": "stream",
          "name": "stdout",
          "text": [
            ">251, 5/11, d1=0.634, d2=0.441 g=1.719\n",
            ">251, 10/11, d1=0.528, d2=0.307 g=1.824\n",
            ">252, 5/11, d1=0.500, d2=0.570 g=1.587\n",
            ">252, 10/11, d1=0.387, d2=0.372 g=1.516\n",
            ">253, 5/11, d1=0.310, d2=0.476 g=1.551\n",
            ">253, 10/11, d1=0.467, d2=0.381 g=1.674\n",
            ">254, 5/11, d1=0.578, d2=0.499 g=1.353\n",
            ">254, 10/11, d1=0.392, d2=0.505 g=1.499\n",
            ">255, 5/11, d1=0.568, d2=0.467 g=1.727\n",
            ">255, 10/11, d1=0.581, d2=0.470 g=1.737\n",
            ">256, 5/11, d1=0.664, d2=0.453 g=1.551\n",
            ">256, 10/11, d1=0.420, d2=0.447 g=1.842\n",
            ">257, 5/11, d1=0.453, d2=0.521 g=1.833\n",
            ">257, 10/11, d1=0.486, d2=0.429 g=2.180\n",
            ">258, 5/11, d1=0.436, d2=0.507 g=1.749\n",
            ">258, 10/11, d1=0.600, d2=0.517 g=1.779\n",
            ">259, 5/11, d1=0.553, d2=0.673 g=1.980\n",
            ">259, 10/11, d1=0.520, d2=0.385 g=1.895\n",
            ">260, 5/11, d1=0.489, d2=0.597 g=1.709\n",
            ">260, 10/11, d1=0.946, d2=0.562 g=2.103\n",
            ">Accuracy real: 54%, fake: 81%\n"
          ]
        },
        {
          "output_type": "stream",
          "name": "stderr",
          "text": [
            "WARNING:tensorflow:Compiled the loaded model, but the compiled metrics have yet to be built. `model.compile_metrics` will be empty until you train or evaluate the model.\n"
          ]
        },
        {
          "output_type": "stream",
          "name": "stdout",
          "text": [
            ">261, 5/11, d1=0.507, d2=0.387 g=1.717\n",
            ">261, 10/11, d1=0.508, d2=0.508 g=1.685\n",
            ">262, 5/11, d1=0.554, d2=0.352 g=1.712\n",
            ">262, 10/11, d1=0.520, d2=0.501 g=1.474\n",
            ">263, 5/11, d1=0.587, d2=0.533 g=1.701\n",
            ">263, 10/11, d1=0.295, d2=0.357 g=1.674\n",
            ">264, 5/11, d1=0.395, d2=0.394 g=1.573\n",
            ">264, 10/11, d1=0.382, d2=0.358 g=1.939\n",
            ">265, 5/11, d1=0.560, d2=0.196 g=2.198\n",
            ">265, 10/11, d1=0.559, d2=0.569 g=1.876\n",
            ">266, 5/11, d1=0.683, d2=0.520 g=2.201\n",
            ">266, 10/11, d1=0.461, d2=0.355 g=1.913\n",
            ">267, 5/11, d1=0.278, d2=0.575 g=2.065\n",
            ">267, 10/11, d1=0.576, d2=0.655 g=2.111\n",
            ">268, 5/11, d1=0.563, d2=0.711 g=2.177\n",
            ">268, 10/11, d1=0.616, d2=0.454 g=1.658\n",
            ">269, 5/11, d1=0.519, d2=0.422 g=1.491\n",
            ">269, 10/11, d1=0.431, d2=0.476 g=1.513\n",
            ">270, 5/11, d1=0.335, d2=0.356 g=1.797\n",
            ">270, 10/11, d1=0.498, d2=0.390 g=1.820\n",
            ">Accuracy real: 63%, fake: 91%\n"
          ]
        },
        {
          "output_type": "stream",
          "name": "stderr",
          "text": [
            "WARNING:tensorflow:Compiled the loaded model, but the compiled metrics have yet to be built. `model.compile_metrics` will be empty until you train or evaluate the model.\n"
          ]
        },
        {
          "output_type": "stream",
          "name": "stdout",
          "text": [
            ">271, 5/11, d1=0.575, d2=0.518 g=1.900\n",
            ">271, 10/11, d1=0.707, d2=0.373 g=1.858\n",
            ">272, 5/11, d1=0.581, d2=0.427 g=1.901\n",
            ">272, 10/11, d1=0.890, d2=0.366 g=1.644\n",
            ">273, 5/11, d1=0.480, d2=0.461 g=1.775\n",
            ">273, 10/11, d1=0.645, d2=0.432 g=1.584\n",
            ">274, 5/11, d1=0.602, d2=0.455 g=1.452\n",
            ">274, 10/11, d1=0.489, d2=0.379 g=1.735\n",
            ">275, 5/11, d1=0.321, d2=0.432 g=1.639\n",
            ">275, 10/11, d1=0.363, d2=0.325 g=1.728\n",
            ">276, 5/11, d1=0.431, d2=0.462 g=1.824\n",
            ">276, 10/11, d1=0.454, d2=0.316 g=1.887\n",
            ">277, 5/11, d1=0.487, d2=0.469 g=1.715\n",
            ">277, 10/11, d1=0.623, d2=0.478 g=1.652\n",
            ">278, 5/11, d1=0.516, d2=0.450 g=1.976\n",
            ">278, 10/11, d1=0.332, d2=0.438 g=1.724\n",
            ">279, 5/11, d1=0.404, d2=0.452 g=1.845\n",
            ">279, 10/11, d1=0.515, d2=0.320 g=1.735\n",
            ">280, 5/11, d1=0.283, d2=0.395 g=1.858\n",
            ">280, 10/11, d1=0.521, d2=0.624 g=2.096\n",
            ">Accuracy real: 56%, fake: 90%\n"
          ]
        },
        {
          "output_type": "stream",
          "name": "stderr",
          "text": [
            "WARNING:tensorflow:Compiled the loaded model, but the compiled metrics have yet to be built. `model.compile_metrics` will be empty until you train or evaluate the model.\n"
          ]
        },
        {
          "output_type": "stream",
          "name": "stdout",
          "text": [
            ">281, 5/11, d1=0.784, d2=0.534 g=2.200\n",
            ">281, 10/11, d1=0.546, d2=0.398 g=1.687\n",
            ">282, 5/11, d1=0.628, d2=0.418 g=1.765\n",
            ">282, 10/11, d1=0.555, d2=0.594 g=1.741\n",
            ">283, 5/11, d1=0.438, d2=0.467 g=1.742\n",
            ">283, 10/11, d1=0.318, d2=0.377 g=1.902\n",
            ">284, 5/11, d1=0.435, d2=0.741 g=2.042\n",
            ">284, 10/11, d1=0.767, d2=0.680 g=1.676\n",
            ">285, 5/11, d1=0.602, d2=0.368 g=1.876\n",
            ">285, 10/11, d1=0.616, d2=0.488 g=1.704\n",
            ">286, 5/11, d1=0.463, d2=0.487 g=1.774\n",
            ">286, 10/11, d1=0.438, d2=0.416 g=1.853\n",
            ">287, 5/11, d1=0.512, d2=0.555 g=1.970\n",
            ">287, 10/11, d1=0.604, d2=0.369 g=1.713\n",
            ">288, 5/11, d1=0.465, d2=0.468 g=1.784\n",
            ">288, 10/11, d1=0.369, d2=0.406 g=1.752\n",
            ">289, 5/11, d1=0.496, d2=0.381 g=1.598\n",
            ">289, 10/11, d1=0.515, d2=0.553 g=1.863\n",
            ">290, 5/11, d1=0.706, d2=0.458 g=1.816\n",
            ">290, 10/11, d1=0.656, d2=0.676 g=2.298\n",
            ">Accuracy real: 66%, fake: 93%\n"
          ]
        },
        {
          "output_type": "stream",
          "name": "stderr",
          "text": [
            "WARNING:tensorflow:Compiled the loaded model, but the compiled metrics have yet to be built. `model.compile_metrics` will be empty until you train or evaluate the model.\n"
          ]
        },
        {
          "output_type": "stream",
          "name": "stdout",
          "text": [
            ">291, 5/11, d1=0.579, d2=0.519 g=1.581\n",
            ">291, 10/11, d1=0.508, d2=0.330 g=1.680\n",
            ">292, 5/11, d1=0.369, d2=0.380 g=1.726\n",
            ">292, 10/11, d1=0.398, d2=0.363 g=1.820\n",
            ">293, 5/11, d1=0.543, d2=0.362 g=1.662\n",
            ">293, 10/11, d1=0.706, d2=0.528 g=1.822\n",
            ">294, 5/11, d1=0.444, d2=0.524 g=1.602\n",
            ">294, 10/11, d1=0.446, d2=0.362 g=1.668\n",
            ">295, 5/11, d1=0.277, d2=0.315 g=1.991\n",
            ">295, 10/11, d1=0.430, d2=0.494 g=1.966\n",
            ">296, 5/11, d1=0.596, d2=0.553 g=2.274\n",
            ">296, 10/11, d1=0.710, d2=0.523 g=1.946\n",
            ">297, 5/11, d1=0.625, d2=0.452 g=1.981\n",
            ">297, 10/11, d1=0.648, d2=0.337 g=1.950\n",
            ">298, 5/11, d1=0.372, d2=0.528 g=1.712\n",
            ">298, 10/11, d1=0.469, d2=0.467 g=1.724\n",
            ">299, 5/11, d1=0.577, d2=0.400 g=1.835\n",
            ">299, 10/11, d1=0.423, d2=0.361 g=1.817\n",
            ">300, 5/11, d1=0.564, d2=0.494 g=1.729\n",
            ">300, 10/11, d1=0.456, d2=0.415 g=1.856\n",
            ">Accuracy real: 74%, fake: 93%\n"
          ]
        },
        {
          "output_type": "stream",
          "name": "stderr",
          "text": [
            "WARNING:tensorflow:Compiled the loaded model, but the compiled metrics have yet to be built. `model.compile_metrics` will be empty until you train or evaluate the model.\n"
          ]
        }
      ],
      "source": [
        "# size of the latent space\n",
        "latent_dim = 100\n",
        "# create the discriminator\n",
        "d_model = define_discriminator()\n",
        "# create the generator\n",
        "g_model = define_generator(latent_dim)\n",
        "# create the gan\n",
        "gan_model = define_gan(g_model, d_model)\n",
        "# load image data\n",
        "image_path = \"/content/gdrive/My Drive/cars_tanks/\"\n",
        "resizedim = 32\n",
        "directorylevels = 2\n",
        "dataset = load_custom_image_set(image_path,resizedim,directorylevels)\n",
        "# train model\n",
        "train(g_model, d_model, gan_model, dataset, latent_dim)"
      ]
    },
    {
      "cell_type": "code",
      "execution_count": 13,
      "metadata": {
        "id": "uTMUKlnMFqV9",
        "colab": {
          "base_uri": "https://localhost:8080/",
          "height": 371
        },
        "outputId": "f01712b3-a0c7-4ba0-ea34-c64249ea96ad"
      },
      "outputs": [
        {
          "output_type": "stream",
          "name": "stdout",
          "text": [
            "4/4 [==============================] - 1s 55ms/step\n"
          ]
        },
        {
          "output_type": "error",
          "ename": "IndexError",
          "evalue": "ignored",
          "traceback": [
            "\u001b[0;31m---------------------------------------------------------------------------\u001b[0m",
            "\u001b[0;31mIndexError\u001b[0m                                Traceback (most recent call last)",
            "\u001b[0;32m<ipython-input-13-91664bcac0ec>\u001b[0m in \u001b[0;36m<module>\u001b[0;34m\u001b[0m\n\u001b[1;32m     28\u001b[0m \u001b[0mX\u001b[0m \u001b[0;34m=\u001b[0m \u001b[0;34m(\u001b[0m\u001b[0mX\u001b[0m \u001b[0;34m+\u001b[0m \u001b[0;36m1\u001b[0m\u001b[0;34m)\u001b[0m \u001b[0;34m/\u001b[0m \u001b[0;36m2.0\u001b[0m\u001b[0;34m\u001b[0m\u001b[0;34m\u001b[0m\u001b[0m\n\u001b[1;32m     29\u001b[0m \u001b[0;31m# plot the result\u001b[0m\u001b[0;34m\u001b[0m\u001b[0;34m\u001b[0m\u001b[0m\n\u001b[0;32m---> 30\u001b[0;31m \u001b[0msave_plot\u001b[0m\u001b[0;34m(\u001b[0m\u001b[0mX\u001b[0m\u001b[0;34m,\u001b[0m \u001b[0;36m10\u001b[0m\u001b[0;34m)\u001b[0m\u001b[0;34m\u001b[0m\u001b[0;34m\u001b[0m\u001b[0m\n\u001b[0m",
            "\u001b[0;32m<ipython-input-13-91664bcac0ec>\u001b[0m in \u001b[0;36msave_plot\u001b[0;34m(examples, n)\u001b[0m\n\u001b[1;32m     16\u001b[0m                 \u001b[0mpyplot\u001b[0m\u001b[0;34m.\u001b[0m\u001b[0maxis\u001b[0m\u001b[0;34m(\u001b[0m\u001b[0;34m'off'\u001b[0m\u001b[0;34m)\u001b[0m\u001b[0;34m\u001b[0m\u001b[0;34m\u001b[0m\u001b[0m\n\u001b[1;32m     17\u001b[0m                 \u001b[0;31m# plot raw pixel data\u001b[0m\u001b[0;34m\u001b[0m\u001b[0;34m\u001b[0m\u001b[0m\n\u001b[0;32m---> 18\u001b[0;31m                 \u001b[0mpyplot\u001b[0m\u001b[0;34m.\u001b[0m\u001b[0mimshow\u001b[0m\u001b[0;34m(\u001b[0m\u001b[0mexamples\u001b[0m\u001b[0;34m[\u001b[0m\u001b[0mi\u001b[0m\u001b[0;34m,\u001b[0m \u001b[0;34m:\u001b[0m\u001b[0;34m,\u001b[0m \u001b[0;34m:\u001b[0m\u001b[0;34m]\u001b[0m\u001b[0;34m)\u001b[0m\u001b[0;34m\u001b[0m\u001b[0;34m\u001b[0m\u001b[0m\n\u001b[0m\u001b[1;32m     19\u001b[0m         \u001b[0mpyplot\u001b[0m\u001b[0;34m.\u001b[0m\u001b[0mshow\u001b[0m\u001b[0;34m(\u001b[0m\u001b[0;34m)\u001b[0m\u001b[0;34m\u001b[0m\u001b[0;34m\u001b[0m\u001b[0m\n\u001b[1;32m     20\u001b[0m \u001b[0;34m\u001b[0m\u001b[0m\n",
            "\u001b[0;31mIndexError\u001b[0m: too many indices for array: array is 2-dimensional, but 3 were indexed"
          ]
        },
        {
          "output_type": "display_data",
          "data": {
            "text/plain": [
              "<Figure size 432x288 with 1 Axes>"
            ],
            "image/png": "[encoded data removed]"
          },
          "metadata": {
            "needs_background": "light"
          }
        }
      ],
      "source": [
        "# generate points in latent space as input for the generator\n",
        "def generate_latent_points(latent_dim, n_samples):\n",
        "\t# generate points in the latent space\n",
        "\tx_input = randn(latent_dim * n_samples)\n",
        "\t# reshape into a batch of inputs for the network\n",
        "\tx_input = x_input.reshape(n_samples, latent_dim)\n",
        "\treturn x_input\n",
        "\n",
        "# create and save a plot of generated images\n",
        "def save_plot(examples, n):\n",
        "\t# plot images\n",
        "\tfor i in range(n * n):\n",
        "\t\t# define subplot\n",
        "\t\tpyplot.subplot(n, n, 1 + i)\n",
        "\t\t# turn off axis\n",
        "\t\tpyplot.axis('off')\n",
        "\t\t# plot raw pixel data\n",
        "\t\tpyplot.imshow(examples[i, :, :])\n",
        "\tpyplot.show()\n",
        "\n",
        "# load model\n",
        "model = gan_model\n",
        "# generate images\n",
        "latent_points = generate_latent_points(100, 100)\n",
        "# generate images\n",
        "X = model.predict(latent_points)\n",
        "# scale from [-1,1] to [0,1]\n",
        "X = (X + 1) / 2.0\n",
        "# plot the result\n",
        "save_plot(X, 10)"
      ]
    },
    {
      "cell_type": "markdown",
      "metadata": {
        "id": "SRCL4Ju3wjkY"
      },
      "source": [
        "# References\n",
        "\n",
        "Brownlee, Jason. (2019). Generative Adversarial Networks with Python. Ebook. Machine Learning Mastery. \n",
        "\n",
        "Das Shuvo, Falguni. (2020). Repeatedly calling model.predict(...) results in memory leak. GitHub. Retrieved 3/15/2023 from https://github.com/keras-team/keras/issues/13118"
      ]
    }
  ],
  "metadata": {
    "accelerator": "GPU",
    "colab": {
      "provenance": [],
      "authorship_tag": "ABX9TyOWqLjX7MhSGv1hD1Gsxniv",
      "include_colab_link": true
    },
    "gpuClass": "standard",
    "kernelspec": {
      "display_name": "Python 3",
      "name": "python3"
    },
    "language_info": {
      "name": "python"
    }
  },
  "nbformat": 4,
  "nbformat_minor": 0
}