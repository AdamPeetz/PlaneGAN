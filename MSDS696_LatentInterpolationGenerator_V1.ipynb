{
  "nbformat": 4,
  "nbformat_minor": 0,
  "metadata": {
    "colab": {
      "provenance": [],
      "authorship_tag": "ABX9TyO7su2kpnItpGBE17EAN6EL",
      "include_colab_link": true
    },
    "kernelspec": {
      "name": "python3",
      "display_name": "Python 3"
    },
    "language_info": {
      "name": "python"
    },
    "gpuClass": "standard"
  },
  "cells": [
    {
      "cell_type": "markdown",
      "metadata": {
        "id": "view-in-github",
        "colab_type": "text"
      },
      "source": [
        "<a href=\"https://colab.research.google.com/github/AdamPeetz/PlaneGAN/blob/main/MSDS696_LatentInterpolationGenerator_V1.ipynb\" target=\"_parent\"><img src=\"https://colab.research.google.com/assets/colab-badge.svg\" alt=\"Open In Colab\"/></a>"
      ]
    },
    {
      "cell_type": "markdown",
      "source": [
        "# Smooth interpolation of latent space"
      ],
      "metadata": {
        "id": "_vRBQ-L4TbcA"
      }
    },
    {
      "cell_type": "code",
      "source": [
        "from numpy import asarray\n",
        "from numpy import vstack\n",
        "from numpy.random import randn\n",
        "from numpy import arccos\n",
        "from numpy import clip\n",
        "from numpy import dot\n",
        "from numpy import sin\n",
        "from numpy import linspace\n",
        "from numpy.linalg import norm\n",
        "from keras.models import load_model\n",
        "from matplotlib import pyplot\n",
        "\n",
        "# generate points in latent space as input for the generator\n",
        "def generate_latent_points(latent_dim, n_samples):\n",
        "\t# generate points in the latent space\n",
        "\tx_input = randn(latent_dim * n_samples)\n",
        "\t# reshape into a batch of inputs for the network\n",
        "\tz_input = x_input.reshape(n_samples, latent_dim)\n",
        "\treturn z_input\n",
        "\n",
        "# spherical linear interpolation (slerp)\n",
        "def slerp(val, low, high):\n",
        "\tomega = arccos(clip(dot(low/norm(low), high/norm(high)), -1, 1))\n",
        "\tso = sin(omega)\n",
        "\tif so == 0:\n",
        "\t\t# L'Hopital's rule/LERP\n",
        "\t\treturn (1.0-val) * low + val * high\n",
        "\treturn sin((1.0-val)*omega) / so * low + sin(val*omega) / so * high\n",
        "\n",
        "# uniform interpolation between two points in latent space\n",
        "def interpolate_points(p1, p2, n_steps=10):\n",
        "\t# interpolate ratios between the points\n",
        "\tratios = linspace(0, 1, num=n_steps)\n",
        "\t# linear interpolate vectors\n",
        "\tvectors = list()\n",
        "\tfor ratio in ratios:\n",
        "\t\tv = slerp(ratio, p1, p2)\n",
        "\t\tvectors.append(v)\n",
        "\treturn asarray(vectors)\n",
        "\n"
      ],
      "metadata": {
        "id": "So3kKZCG5fHK"
      },
      "execution_count": null,
      "outputs": []
    },
    {
      "cell_type": "code",
      "source": [
        "# load model\n",
        "model_location = '/content/gdrive/My Drive/planegan/test_models/dcgan_generator_model_350.h5' \n",
        "\n",
        "# model\n",
        "model = load_model(model_location)"
      ],
      "metadata": {
        "colab": {
          "base_uri": "https://localhost:8080/"
        },
        "id": "dKgEYZ3v6tjW",
        "outputId": "de8ef61b-1cc1-4ad0-b94e-182c3f9b3ce7"
      },
      "execution_count": null,
      "outputs": [
        {
          "output_type": "stream",
          "name": "stderr",
          "text": [
            "WARNING:tensorflow:No training configuration found in the save file, so the model was *not* compiled. Compile it manually.\n"
          ]
        }
      ]
    },
    {
      "cell_type": "code",
      "source": [
        "# set random seed for reproducing results\n",
        "# np.random.seed(0)\n",
        "\n",
        "# number of interpolations to generate\n",
        "n = 100\n",
        "\n",
        "# number of steps in each interpolation\n",
        "n_steps = 100\n",
        "\n",
        "# generate latent points\n",
        "pts = generate_latent_points(100, n)\n",
        "\n",
        "# interpolate pairs\n",
        "results = None\n",
        "for i in range(0, n, 2):\n",
        "\t# interpolate points in latent space\n",
        "\tinterpolated = interpolate_points(pts[i], pts[i+1], n_steps)\n",
        "\t# generate images\n",
        "\tX = model.predict(interpolated)\n",
        "\t# scale from [-1,1] to [0,1]\n",
        "\tX = (X + 1) / 2.0\n",
        "\tif results is None:\n",
        "\t\tresults = X\n",
        "\telse:\n",
        "\t\tresults = vstack((results, X))\n",
        "\n",
        "ila = 0\n",
        "for pic in range(len(results)):\n",
        "  ila+=1\n",
        "  filename1 = '/content/gdrive/My Drive/planegan/test_models/sample_img_%01d.png' % (i)\n",
        "  # show single image\n",
        "  pyplot.axis('off')\n",
        "  pyplot.imshow(results[pic])\n",
        "  pyplot.savefig(filename1)"
      ],
      "metadata": {
        "colab": {
          "base_uri": "https://localhost:8080/"
        },
        "id": "VAirgdSX6qQF",
        "outputId": "358bb623-e28a-42c7-bc17-a368a98d250e"
      },
      "execution_count": null,
      "outputs": [
        {
          "output_type": "stream",
          "name": "stdout",
          "text": [
            "4/4 [==============================] - 79s 18s/step\n",
            "4/4 [==============================] - 80s 18s/step\n",
            "4/4 [==============================] - 79s 18s/step\n",
            "4/4 [==============================] - 79s 18s/step\n",
            "4/4 [==============================] - 78s 18s/step\n",
            "4/4 [==============================] - 78s 18s/step\n",
            "4/4 [==============================] - 80s 18s/step\n",
            "4/4 [==============================] - 79s 18s/step\n",
            "4/4 [==============================] - 78s 18s/step\n",
            "4/4 [==============================] - 78s 18s/step\n",
            "4/4 [==============================] - 79s 18s/step\n",
            "4/4 [==============================] - 79s 18s/step\n",
            "4/4 [==============================] - 79s 18s/step\n",
            "4/4 [==============================] - 79s 18s/step\n",
            "4/4 [==============================] - 79s 18s/step\n",
            "4/4 [==============================] - 80s 18s/step\n",
            "4/4 [==============================] - 78s 18s/step\n",
            "4/4 [==============================] - 78s 18s/step\n",
            "4/4 [==============================] - 79s 18s/step\n",
            "4/4 [==============================] - 79s 18s/step\n",
            "4/4 [==============================] - 79s 18s/step\n",
            "4/4 [==============================] - 80s 18s/step\n",
            "4/4 [==============================] - 78s 18s/step\n",
            "4/4 [==============================] - 78s 18s/step\n",
            "4/4 [==============================] - 79s 18s/step\n",
            "4/4 [==============================] - 79s 18s/step\n",
            "4/4 [==============================] - 78s 18s/step\n",
            "4/4 [==============================] - 78s 18s/step\n",
            "1/4 [======>.......................] - ETA: 1:14"
          ]
        }
      ]
    }
  ]
}