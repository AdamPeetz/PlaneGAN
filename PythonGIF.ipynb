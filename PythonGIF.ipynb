{
 "cells": [
  {
   "cell_type": "code",
   "execution_count": 9,
   "id": "bd6f1296",
   "metadata": {},
   "outputs": [],
   "source": [
    "#https://theailearner.com/2021/05/29/creating-gif-from-video-using-opencv-and-imageio/#:~:text=Steps%201%20Open%20the%20video%20file%20using%20cv2.VideoCapture,frame%20per%20second%20%28fps%29%20according%20to%20your%20application.\n",
    "\n",
    "import os\n",
    "import cv2\n",
    "import imageio\n",
    "\n",
    "image_path = \"C:\\\\Users\\\\Adamg\\\\Documents\\\\MSDS696\\\\Outputs\\\\3.30.23 Aerospace 15M\\\\sample_output\\\\\"\n",
    "image_lst = []\n",
    "for file in os.listdir(image_path):\n",
    "    in_process_image = cv2.imread(os.path.join(image_path,file)) \n",
    "    in_process_image = cv2.cvtColor(in_process_image, cv2.COLOR_BGR2RGB)\n",
    "    image_lst.append(in_process_image) \n",
    "imageio.mimsave('C:\\\\Users\\\\Adamg\\\\Documents\\\\MSDS696\\\\Outputs\\\\3.30.23 Aerospace 15M\\\\sample_output\\\\video.gif', image_lst, fps=0.5)   "
   ]
  }
 ],
 "metadata": {
  "kernelspec": {
   "display_name": "Python 3 (ipykernel)",
   "language": "python",
   "name": "python3"
  },
  "language_info": {
   "codemirror_mode": {
    "name": "ipython",
    "version": 3
   },
   "file_extension": ".py",
   "mimetype": "text/x-python",
   "name": "python",
   "nbconvert_exporter": "python",
   "pygments_lexer": "ipython3",
   "version": "3.9.13"
  }
 },
 "nbformat": 4,
 "nbformat_minor": 5
}
