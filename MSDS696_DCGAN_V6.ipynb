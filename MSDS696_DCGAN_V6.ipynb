{
  "cells": [
    {
      "cell_type": "markdown",
      "metadata": {
        "id": "view-in-github",
        "colab_type": "text"
      },
      "source": [
        "<a href=\"https://colab.research.google.com/github/AdamPeetz/PlaneGAN/blob/main/MSDS696_DCGAN_V6.ipynb\" target=\"_parent\"><img src=\"https://colab.research.google.com/assets/colab-badge.svg\" alt=\"Open In Colab\"/></a>"
      ]
    },
    {
      "cell_type": "code",
      "execution_count": 1,
      "metadata": {
        "colab": {
          "base_uri": "https://localhost:8080/"
        },
        "id": "lip5etIQEPQN",
        "outputId": "7c96ec4b-6c50-4070-c826-3e924b822e5b"
      },
      "outputs": [
        {
          "output_type": "stream",
          "name": "stdout",
          "text": [
            "Drive already mounted at /content/gdrive; to attempt to forcibly remount, call drive.mount(\"/content/gdrive\", force_remount=True).\n"
          ]
        }
      ],
      "source": [
        "# example of a dcgan on cifar10\n",
        "from numpy import zeros\n",
        "from numpy import ones\n",
        "from numpy.random import randn, random\n",
        "from numpy.random import randint\n",
        "from keras.initializers import RandomNormal\n",
        "from keras.optimizers import Adam\n",
        "from keras.models import Sequential\n",
        "from keras.layers import Dense\n",
        "from keras.layers import Reshape\n",
        "from keras.layers import Flatten\n",
        "from keras.layers import Conv2D\n",
        "from keras.layers import Conv2DTranspose, Conv3DTranspose\n",
        "from keras.layers import LeakyReLU, ReLU\n",
        "from keras.layers import Dropout\n",
        "from keras.layers import BatchNormalization\n",
        "from matplotlib import pyplot\n",
        "import tensorflow as tf\n",
        "import cv2\n",
        "import numpy as np\n",
        "import pathlib\n",
        "\n",
        "import os, shutil \n",
        "from google.colab import drive \n",
        "drive.mount('/content/gdrive')"
      ]
    },
    {
      "cell_type": "code",
      "execution_count": 2,
      "metadata": {
        "id": "JrTxmPpaEnsx"
      },
      "outputs": [],
      "source": [
        "# define the standalone discriminator model\n",
        "def define_discriminator(in_shape=(128,128,3)):\n",
        "\tinit = RandomNormal(mean=0.0, stddev=0.02)\n",
        "\tmodel = Sequential()\n",
        "\t# normal\n",
        "\tmodel.add(Conv2D(64, (3,3), padding='same', kernel_initializer=init, input_shape=in_shape))\n",
        "\tmodel.add(LeakyReLU(alpha=0.2))\n",
        "\t# downsample to 64x64\n",
        "\tmodel.add(Conv2D(98, (3,3), strides=(2,2), kernel_initializer=init, padding='same'))\n",
        "\tmodel.add(Dropout(0.4))\n",
        "\tmodel.add(LeakyReLU(alpha=0.2))\n",
        "\t# downsample to 32x32\n",
        "\tmodel.add(Conv2D(128, (3,3), strides=(2,2), kernel_initializer=init, padding='same'))\n",
        "\tmodel.add(Dropout(0.4))\n",
        "\tmodel.add(LeakyReLU(alpha=0.2))\n",
        "\t# downsample to 16x16\n",
        "\tmodel.add(Conv2D(192, (3,3), strides=(2,2), kernel_initializer=init, padding='same'))\n",
        "\tmodel.add(Dropout(0.4))\n",
        "\tmodel.add(LeakyReLU(alpha=0.2))\n",
        "\t# downsample to 8x8\n",
        "\tmodel.add(Conv2D(256, (3,3), strides=(2,2), kernel_initializer=init, padding='same'))\n",
        "\tmodel.add(Dropout(0.4))\n",
        "\tmodel.add(LeakyReLU(alpha=0.2))\n",
        " \t# downsample to 4x4\n",
        "\tmodel.add(Conv2D(256, (3,3), strides=(2,2), kernel_initializer=init, padding='same'))\n",
        "\tmodel.add(Dropout(0.4))\n",
        "\tmodel.add(LeakyReLU(alpha=0.2))\n",
        "\t# classifier\n",
        "\tmodel.add(Flatten())\n",
        "\tmodel.add(Dropout(0.4))\n",
        "\tmodel.add(Dense(1, activation='sigmoid'))\n",
        "\t# compile model\n",
        "\topt = Adam(lr=0.0002, beta_1=0.5)\n",
        "\tmodel.compile(loss='binary_crossentropy', optimizer=opt, metrics=['accuracy'])\n",
        "\treturn model\n"
      ]
    },
    {
      "cell_type": "code",
      "execution_count": 11,
      "metadata": {
        "id": "GDtG-SO4En3V"
      },
      "outputs": [],
      "source": [
        "# define the standalone generator model\n",
        "def define_generator(latent_dim):\n",
        "\tinit = RandomNormal(mean=0.0, stddev=0.02)\n",
        "\tmodel = Sequential()\n",
        "\t# foundation for 4x4 image\n",
        "\tn_nodes = 256 * 4 * 4\n",
        "\tmodel.add(Dense(n_nodes, input_dim=latent_dim))\n",
        "#\tmodel.add(BatchNormalization())\n",
        "\tmodel.add(LeakyReLU(alpha=0.2))\n",
        "\tmodel.add(Reshape((4, 4, 256)))\n",
        "\t# upsample to 8x8\n",
        "\tmodel.add(Conv2DTranspose(1024, (4,4), strides=(2,2), kernel_initializer=init, padding='same'))\n",
        "#\tmodel.add(BatchNormalization())\n",
        "\tmodel.add(LeakyReLU(alpha=0.2))\n",
        "\t# upsample to 16x16\n",
        "\tmodel.add(Conv2DTranspose(512, (4,4), strides=(2,2), kernel_initializer=init, padding='same'))\n",
        "#\tmodel.add(BatchNormalization())\n",
        "\tmodel.add(LeakyReLU(alpha=0.2))\n",
        "\t# upsample to 32x32\n",
        "\tmodel.add(Conv2DTranspose(264, (4,4), strides=(2,2), kernel_initializer=init, padding='same'))\n",
        "#\tmodel.add(BatchNormalization())\n",
        "\tmodel.add(LeakyReLU(alpha=0.2))\n",
        " \t# upsample to 64x64\n",
        "\tmodel.add(Conv2DTranspose(128, (4,4), strides=(2,2), kernel_initializer=init, padding='same'))\n",
        "#\tmodel.add(BatchNormalization())\n",
        "\tmodel.add(LeakyReLU(alpha=0.2))\n",
        " \t# upsample to 128x128\n",
        "\tmodel.add(Conv2DTranspose(64, (4,4), strides=(2,2), kernel_initializer=init, padding='same'))\n",
        "\tmodel.add(LeakyReLU(alpha=0.2))\n",
        "\t# Param Expand\n",
        "#\tmodel.add(Conv2D(256, (1,1), kernel_initializer=init, padding='same'))\n",
        "#\tmodel.add(LeakyReLU(alpha=0.2))\n",
        "\t# output layer\n",
        "\tmodel.add(Conv2D(3, (3,3), activation='tanh', padding='same'))\n",
        "\treturn model"
      ]
    },
    {
      "cell_type": "code",
      "execution_count": 4,
      "metadata": {
        "id": "NDgVFRylEn-t"
      },
      "outputs": [],
      "source": [
        "# define the combined generator and discriminator model, for updating the generator\n",
        "def define_gan(g_model, d_model):\n",
        "\t# make weights in the discriminator not trainable\n",
        "\td_model.trainable = False\n",
        "\t# connect them\n",
        "\tmodel = Sequential()\n",
        "\t# add generator\n",
        "\tmodel.add(g_model)\n",
        "\t# add the discriminator\n",
        "\tmodel.add(d_model)\n",
        "\t# compile model\n",
        "\topt = Adam(lr=0.0002, beta_1=0.5)\n",
        "\tmodel.compile(loss='binary_crossentropy', optimizer=opt)\n",
        "\treturn model"
      ]
    },
    {
      "cell_type": "code",
      "execution_count": 5,
      "metadata": {
        "id": "R2tPw_SdEx7C"
      },
      "outputs": [],
      "source": [
        "#load a custom image dataset \n",
        "# tensorflow documentation\n",
        "def load_custom_image_set(dataroot,resizedim,directorylevels):\n",
        "    #image parse function\n",
        "    def parse_image(filename):\n",
        "        parts = tf.strings.split(filename, os.sep)\n",
        "        label = parts[-2]\n",
        "        image = tf.io.read_file(filename)\n",
        "        image = tf.io.decode_jpeg(image)\n",
        "        image = tf.image.convert_image_dtype(image, tf.float32)\n",
        "        image = tf.image.resize(image, [resizedim,resizedim])\n",
        "        image = (image * 2) -1\n",
        "        return image, label\n",
        "    \n",
        "    data_root = pathlib.Path(dataroot)\n",
        "    if directorylevels == 1:\n",
        "      list_ds = tf.data.Dataset.list_files(str(data_root/'*/*'))\n",
        "    if directorylevels == 2:\n",
        "      list_ds = tf.data.Dataset.list_files(str(data_root/'*/*/*'))\n",
        "    images_ds = list_ds.map(parse_image)\n",
        "    #https://stackoverflow.com/questions/70535683/extract-data-from-tensorflow-dataset-e-g-to-numpy\n",
        "    images = np.asarray(list(images_ds.map(lambda x, y: x)))\n",
        "    return images\n",
        "\n",
        "# label smoothing function\n",
        "def smooth_positive_labels(y):\n",
        "\treturn y - 0.3 + (random(y.shape) * 0.5)\n",
        "                  \n",
        "# select real samples\n",
        "def generate_real_samples(dataset, n_samples):\n",
        "\t# choose random instances\n",
        "\tix = randint(0, dataset.shape[0], n_samples)\n",
        "\t# retrieve selected images\n",
        "\tX = dataset[ix]\n",
        "\t# generate 'real' class labels (1)\n",
        "\ty = ones((n_samples, 1))\n",
        "\t# apply label smoothing\n",
        "\ty = smooth_positive_labels(y)\n",
        "\treturn X, y\n",
        "\n",
        "# generate points in latent space as input for the generator\n",
        "def generate_latent_points(latent_dim, n_samples):\n",
        "\t# generate points in the latent space\n",
        "\tx_input = randn(latent_dim * n_samples)\n",
        "\t# reshape into a batch of inputs for the network\n",
        "\tx_input = x_input.reshape(n_samples, latent_dim)\n",
        "\treturn x_input\n",
        "\n",
        "# modified with suggestion from Das Shuvo (2020)\n",
        "# use the generator to generate n fake examples, with class labels\n",
        "def generate_fake_samples(g_model, latent_dim, n_samples):\n",
        "\t# generate points in latent space\n",
        "\tx_input = generate_latent_points(latent_dim, n_samples)\n",
        "\t# predict outputs\n",
        "\tinput_tensor = tf.convert_to_tensor(x_input)\n",
        "\tX = g_model(input_tensor)\n",
        "\tX = X.numpy()\n",
        "\t# create 'fake' class labels (0)\n",
        "\ty = zeros((n_samples, 1))\n",
        "\treturn X, y"
      ]
    },
    {
      "cell_type": "code",
      "execution_count": 6,
      "metadata": {
        "id": "I2MWrLh8EyBL"
      },
      "outputs": [],
      "source": [
        "# create and save a plot of generated images\n",
        "def save_plot(examples, epoch, n=7):\n",
        "\t# scale from [-1,1] to [0,1]\n",
        "\texamples = (examples + 1) / 2.0\n",
        "#\texample = (examples + 1) * 255\n",
        "\t# plot images\n",
        "\tfor i in range(n * n):\n",
        "\t\t# define subplot\n",
        "\t\tpyplot.subplot(n, n, 1 + i)\n",
        "\t\t# turn off axis\n",
        "\t\tpyplot.axis('off')\n",
        "\t\t# plot raw pixel data\n",
        "\t\tpyplot.imshow(examples[i])\n",
        "\t# save plot to file\n",
        "\tfilename = '/content/gdrive/My Drive/planegan/sample_output/generated_plot_e%03d.png' % (epoch+1)\n",
        "\tpyplot.savefig(filename)\n",
        "\tpyplot.close()\n",
        " \n",
        "# create a line plot of loss for the gan and save to file\n",
        "def plot_history(d1_hist, d2_hist, g_hist, a1_hist, a2_hist):\n",
        "\t# plot loss\n",
        "\tpyplot.subplot(2, 1, 1)\n",
        "\tpyplot.plot(d1_hist, label='d-real')\n",
        "\tpyplot.plot(d2_hist, label='d-fake')\n",
        "\tpyplot.plot(g_hist, label='gen')\n",
        "\tpyplot.legend()\n",
        "\t# plot discriminator accuracy\n",
        "\tpyplot.subplot(2, 1, 2)\n",
        "\tpyplot.plot(a1_hist, label='acc-real')\n",
        "\tpyplot.plot(a2_hist, label='acc-fake')\n",
        "\tpyplot.legend()\n",
        "\t# save plot to file\n",
        "\tpyplot.savefig('/content/gdrive/My Drive/planegan/saved_models/plot_line_plot_loss.png')\n",
        "\tpyplot.close()\n"
      ]
    },
    {
      "cell_type": "code",
      "execution_count": 7,
      "metadata": {
        "id": "RrnRfx2tFKoi"
      },
      "outputs": [],
      "source": [
        "# evaluate the discriminator, plot generated images, save generator model\n",
        "def summarize_performance(epoch, g_model, d_model, dataset, latent_dim, n_samples=150):\n",
        "\t# prepare real samples\n",
        "\tX_real, y_real = generate_real_samples(dataset, n_samples)\n",
        "\t# evaluate discriminator on real examples\n",
        "\t_, acc_real = d_model.evaluate(X_real, y_real, verbose=0)\n",
        "\t# prepare fake examples\n",
        "\tx_fake, y_fake = generate_fake_samples(g_model, latent_dim, n_samples)\n",
        "\t# evaluate discriminator on fake examples\n",
        "\t_, acc_fake = d_model.evaluate(x_fake, y_fake, verbose=0)\n",
        "\t# summarize discriminator performance\n",
        "\tprint('>Accuracy real: %.0f%%, fake: %.0f%%' % (acc_real*100, acc_fake*100))\n",
        "\t# save plot\n",
        "\tsave_plot(x_fake, epoch)\n",
        "\t# save the generator model tile file\n",
        "\tfilename = '/content/gdrive/My Drive/planegan/saved_models/generator_model_%03d.h5' % (epoch+1)\n",
        "\tg_model.save(filename)\n",
        "\n",
        "# train the generator and discriminator\n",
        "def train(g_model, d_model, gan_model, dataset, latent_dim, n_epochs=300, n_batch=128):\n",
        "\tbat_per_epo = int(dataset.shape[0] / n_batch)\n",
        "\t# define half batches for training\n",
        "\thalf_batch = int(n_batch / 2)\n",
        "  # prepare lists for storing stats each iteration\n",
        "\td1_hist, d2_hist, g_hist, a1_hist, a2_hist = list(), list(), list(), list(), list()\n",
        "\t# manually enumerate epochs\n",
        "\tfor i in range(n_epochs):\n",
        "\t\t# enumerate batches over the training set\n",
        "\t\tfor j in range(bat_per_epo):\n",
        "\t\t\t# get randomly selected 'real' samples\n",
        "\t\t\tX_real, y_real = generate_real_samples(dataset, half_batch)\n",
        "\t\t\t# update discriminator model weights\n",
        "\t\t\td_loss1, d_acc1 = d_model.train_on_batch(X_real, y_real)\n",
        "\t\t\t# generate 'fake' examples\n",
        "\t\t\tX_fake, y_fake = generate_fake_samples(g_model, latent_dim, half_batch)\n",
        "\t\t\t# update discriminator model weights\n",
        "\t\t\td_loss2, d_acc2 = d_model.train_on_batch(X_fake, y_fake)\n",
        "\t\t\t# prepare points in latent space as input for the generator\n",
        "\t\t\tX_gan = generate_latent_points(latent_dim, n_batch)\n",
        "\t\t\t# create inverted labels for the fake samples\n",
        "\t\t\ty_gan = ones((n_batch, 1))\n",
        "\t\t\t# update the generator via the discriminator's error\n",
        "\t\t\tg_loss = gan_model.train_on_batch(X_gan, y_gan)\n",
        "\t\t# summarize loss\n",
        "\t\t\tif (j+1) % 5 == 0:\n",
        "\t\t\t\tprint('>%d, %d/%d, d1=%.3f, d2=%.3f g=%.3f' % (i+1, j+1, bat_per_epo, d_loss1, d_loss2, g_loss))\n",
        "\t\t# evaluate the model performance, sometimes\n",
        "\t\tif (i+1) % 10 == 0:\n",
        "\t\t\tsummarize_performance(i, g_model, d_model, dataset, latent_dim)\n",
        "\t \t\t# save plot to directory\n",
        "\t\t\tplot_history(d1_hist, d2_hist, g_hist, a1_hist, a2_hist)\n",
        "\t\t# record training metrics\n",
        "\t\tif (i+1) % 2 == 0:\n",
        "\t\t\td1_hist.append(d_loss1)\n",
        "\t\t\td2_hist.append(d_loss2)\n",
        "\t\t\tg_hist.append(g_loss)\n",
        "\t\t\ta1_hist.append(d_acc1)\n",
        "\t\t\ta2_hist.append(d_acc2)"
      ]
    },
    {
      "cell_type": "code",
      "execution_count": 9,
      "metadata": {
        "id": "LuVfdG7CFKtv"
      },
      "outputs": [],
      "source": [
        "# load image data\n",
        "image_path = \"/content/gdrive/My Drive/planegan/airplanes_resized/\"\n",
        "resizedim = 128\n",
        "directorylevels = 1\n",
        "dataset = load_custom_image_set(image_path,resizedim,directorylevels)"
      ]
    },
    {
      "cell_type": "code",
      "source": [
        "# size of the latent space\n",
        "latent_dim = 100\n",
        "# create the discriminator\n",
        "d_model = define_discriminator()\n",
        "# create the generator\n",
        "g_model = define_generator(latent_dim)\n",
        "# create the gan\n",
        "gan_model = define_gan(g_model, d_model)\n",
        "# train model\n",
        "train(g_model, d_model, gan_model, dataset, latent_dim, n_epochs=600, n_batch=128)"
      ],
      "metadata": {
        "id": "xIvMxk164ReR"
      },
      "execution_count": null,
      "outputs": []
    },
    {
      "cell_type": "code",
      "execution_count": null,
      "metadata": {
        "id": "uTMUKlnMFqV9"
      },
      "outputs": [],
      "source": [
        "# generate points in latent space as input for the generator\n",
        "def generate_latent_points(latent_dim, n_samples):\n",
        "\t# generate points in the latent space\n",
        "\tx_input = randn(latent_dim * n_samples)\n",
        "\t# reshape into a batch of inputs for the network\n",
        "\tx_input = x_input.reshape(n_samples, latent_dim)\n",
        "\treturn x_input\n",
        "\n",
        "# create and save a plot of generated images\n",
        "def save_plot(examples, n):\n",
        "\t# plot images\n",
        "\tfor i in range(n * n):\n",
        "\t\t# define subplot\n",
        "\t\tpyplot.subplot(n, n, 1 + i)\n",
        "\t\t# turn off axis\n",
        "\t\tpyplot.axis('off')\n",
        "\t\t# plot raw pixel data\n",
        "\t\tpyplot.imshow(examples[i, :, :])\n",
        "\tpyplot.show()\n",
        "\n",
        "# load model\n",
        "model = gan_model\n",
        "# generate images\n",
        "latent_points = generate_latent_points(100, 100)\n",
        "# generate images\n",
        "X = model.predict(latent_points)\n",
        "# scale from [-1,1] to [0,1]\n",
        "X = (X + 1) / 2.0\n",
        "# plot the result\n",
        "save_plot(X, 10)"
      ]
    },
    {
      "cell_type": "markdown",
      "metadata": {
        "id": "SRCL4Ju3wjkY"
      },
      "source": [
        "# References\n",
        "\n",
        "Brownlee, Jason. (2019). Generative Adversarial Networks with Python. Ebook. Machine Learning Mastery. \n",
        "\n",
        "Das Shuvo, Falguni. (2020). Repeatedly calling model.predict(...) results in memory leak. GitHub. Retrieved 3/15/2023 from https://github.com/keras-team/keras/issues/13118"
      ]
    }
  ],
  "metadata": {
    "accelerator": "GPU",
    "colab": {
      "provenance": [],
      "authorship_tag": "ABX9TyOSb5PzbI22NviJ81I5Uq1x",
      "include_colab_link": true
    },
    "gpuClass": "standard",
    "kernelspec": {
      "display_name": "Python 3",
      "name": "python3"
    },
    "language_info": {
      "name": "python"
    }
  },
  "nbformat": 4,
  "nbformat_minor": 0
}